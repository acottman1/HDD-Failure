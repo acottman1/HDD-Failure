{
 "cells": [
  {
   "cell_type": "markdown",
   "metadata": {},
   "source": [
    "# Predictive Maintinance and Analysis of Back Blaze Hard Disk Drives.\n",
    "### Introduction\n",
    "\n",
    "Put write up here.\n",
    "\n",
    "## Data Import and Data Wrangling"
   ]
  },
  {
   "cell_type": "code",
   "execution_count": 2,
   "metadata": {},
   "outputs": [],
   "source": [
    "import pandas as pd\n",
    "import numpy as np\n",
    "import seaborn as sns\n",
    "import matplotlib.pyplot as plt\n",
    "import os \n",
    "import glob\n"
   ]
  },
  {
   "cell_type": "code",
   "execution_count": 3,
   "metadata": {},
   "outputs": [],
   "source": [
    "os.getcwd()\n",
    "path = '/Users/Aron/CDS/CDS_492/HDD-Failure'\n",
    "os.chdir(path)"
   ]
  },
  {
   "cell_type": "code",
   "execution_count": 4,
   "metadata": {},
   "outputs": [],
   "source": [
    "#read in the data\n",
    "#make list of all the files \n",
    "#files = [f for f in glob.glob(\"data/*/*.csv\")]\n",
    "\n",
    "df = pd.concat([pd.read_csv(f) for f in glob.glob(\"data/*/*.csv\")],ignore_index = True)\n"
   ]
  },
  {
   "cell_type": "code",
   "execution_count": 5,
   "metadata": {},
   "outputs": [],
   "source": [
    "# make lists of column names needed\n",
    "IDCols = df.columns[0:5]\n",
    "rawCols = df.columns[6::2]\n",
    "allrawCols = IDCols.append(rawCols)\n",
    "normCols = df.columns[5::2]\n",
    "allNormCols = IDCols.append(normCols)"
   ]
  },
  {
   "cell_type": "code",
   "execution_count": 7,
   "metadata": {},
   "outputs": [
    {
     "name": "stdout",
     "output_type": "stream",
     "text": [
      "Index(['date', 'serial_number', 'model', 'capacity_bytes', 'failure'], dtype='object')\n",
      "Index(['smart_1_raw', 'smart_2_raw', 'smart_3_raw', 'smart_4_raw',\n",
      "       'smart_5_raw'],\n",
      "      dtype='object')\n",
      "Index(['smart_1_normalized', 'smart_2_normalized', 'smart_3_normalized',\n",
      "       'smart_4_normalized', 'smart_5_normalized'],\n",
      "      dtype='object')\n",
      "Index(['date', 'serial_number', 'model', 'capacity_bytes', 'failure',\n",
      "       'smart_1_raw', 'smart_2_raw'],\n",
      "      dtype='object')\n",
      "Index(['date', 'serial_number', 'model', 'capacity_bytes', 'failure',\n",
      "       'smart_1_normalized', 'smart_2_normalized'],\n",
      "      dtype='object')\n"
     ]
    }
   ],
   "source": [
    "# check the order of columns\n",
    "print(IDCols)\n",
    "print(rawCols[0:5])\n",
    "print(normCols[0:5])\n",
    "print(allrawCols[0:7])\n",
    "print(allNormCols[0:7])"
   ]
  },
  {
   "cell_type": "code",
   "execution_count": 6,
   "metadata": {},
   "outputs": [],
   "source": [
    "#turn the date column to an actual date.\n",
    "df['date'] = pd.to_datetime(df['date'])"
   ]
  },
  {
   "cell_type": "code",
   "execution_count": 7,
   "metadata": {},
   "outputs": [],
   "source": [
    "#select the drives that have failed\n",
    "fail_drives = df[df['failure'] == 1]\n",
    "fail_drives = fail_drives['serial_number']\n",
    "fail = df[df['serial_number'].isin(fail_drives)].reset_index(drop = True)"
   ]
  },
  {
   "cell_type": "code",
   "execution_count": 8,
   "metadata": {},
   "outputs": [
    {
     "name": "stdout",
     "output_type": "stream",
     "text": [
      "63374\n",
      "735\n"
     ]
    }
   ],
   "source": [
    "print(len(fail))\n",
    "print(len(fail_drives))\n",
    "#get the raw data. Start with the normalized data given. \n",
    "#fail_raw = fail_names[allrawCols]\n",
    "#sort it \n",
    "#fail_raw = fail_raw.sort_values(by = ['serial_number','date'])\n",
    "#fail_raw = fail_raw.reset_index()"
   ]
  },
  {
   "cell_type": "code",
   "execution_count": 9,
   "metadata": {},
   "outputs": [],
   "source": [
    "fail_norm = fail[IDCols.append(normCols)].sort_values(['serial_number', 'date']).reset_index()"
   ]
  },
  {
   "cell_type": "code",
   "execution_count": 13,
   "metadata": {},
   "outputs": [],
   "source": [
    "\n",
    "#fail_norm[fail_norm['smart_198_normalized'].isna()]\n",
    "#df[df['smart_198_normalized'].isna()].sum"
   ]
  },
  {
   "cell_type": "code",
   "execution_count": 17,
   "metadata": {},
   "outputs": [
    {
     "data": {
      "text/plain": [
       "index                       0\n",
       "date                        0\n",
       "serial_number               0\n",
       "model                       0\n",
       "capacity_bytes              0\n",
       "failure                     0\n",
       "smart_1_normalized          0\n",
       "smart_2_normalized      57066\n",
       "smart_3_normalized          0\n",
       "smart_4_normalized          0\n",
       "smart_5_normalized          0\n",
       "smart_7_normalized          0\n",
       "smart_8_normalized      57066\n",
       "smart_9_normalized          0\n",
       "smart_10_normalized         0\n",
       "smart_11_normalized     61219\n",
       "smart_12_normalized         0\n",
       "smart_13_normalized     63374\n",
       "smart_15_normalized     63374\n",
       "smart_22_normalized     63374\n",
       "smart_183_normalized    11718\n",
       "smart_184_normalized     8132\n",
       "smart_187_normalized     8132\n",
       "smart_188_normalized     8132\n",
       "smart_189_normalized     8132\n",
       "smart_190_normalized     8132\n",
       "smart_191_normalized     7610\n",
       "smart_192_normalized      143\n",
       "smart_193_normalized      474\n",
       "smart_194_normalized        0\n",
       "smart_195_normalized    56261\n",
       "smart_196_normalized    55242\n",
       "smart_197_normalized        0\n",
       "smart_198_normalized        0\n",
       "smart_199_normalized        0\n",
       "smart_200_normalized    61219\n",
       "smart_201_normalized    63374\n",
       "smart_220_normalized    63108\n",
       "smart_222_normalized    63108\n",
       "smart_223_normalized    62777\n",
       "smart_224_normalized    63108\n",
       "smart_225_normalized    63043\n",
       "smart_226_normalized    63108\n",
       "smart_240_normalized     7866\n",
       "smart_241_normalized     8132\n",
       "smart_242_normalized     8132\n",
       "smart_250_normalized    63339\n",
       "smart_251_normalized    63339\n",
       "smart_252_normalized    63339\n",
       "smart_254_normalized    63339\n",
       "smart_255_normalized    63374\n",
       "dtype: int64"
      ]
     },
     "execution_count": 17,
     "metadata": {},
     "output_type": "execute_result"
    }
   ],
   "source": [
    "#visualize the missing data\n",
    "fail_norm.isna().sum()\n",
    "#Wow, there is a lot of NA values in this "
   ]
  },
  {
   "cell_type": "code",
   "execution_count": 18,
   "metadata": {},
   "outputs": [
    {
     "data": {
      "text/plain": [
       "ST4000DM000                48460\n",
       "ST8000DM002                 3536\n",
       "ST4000DX000                 2355\n",
       "Hitachi HDS5C3030ALA630     1907\n",
       "HGST HMS5C4040BLE640        1797\n",
       "Hitachi HDS723030ALA640      961\n",
       "WDC WD30EFRX                 779\n",
       "HGST HMS5C4040ALE640         767\n",
       "WDC WD60EFRX                 721\n",
       "ST6000DX000                  698\n",
       "ST500LM012 HN                331\n",
       "Hitachi HDS5C4040ALE630      279\n",
       "WDC WD5000LPVX               216\n",
       "TOSHIBA MQ01ABF050           157\n",
       "ST3160318AS                  143\n",
       "TOSHIBA MD04ABA400V          109\n",
       "WDC WD1600AAJS                62\n",
       "ST320LT007                    35\n",
       "WDC WD10EACS                  25\n",
       "WDC WD5000LPCX                21\n",
       "ST8000NM0055                  15\n",
       "Name: model, dtype: int64"
      ]
     },
     "execution_count": 18,
     "metadata": {},
     "output_type": "execute_result"
    }
   ],
   "source": [
    "fail_norm['model'].value_counts()\n"
   ]
  },
  {
   "cell_type": "markdown",
   "metadata": {},
   "source": [
    "Now the drives that have failed are completly sorted, fiirst by serial number then by date.  might need to group_by in order for each serial number to be trated as a single series. not sure though. \n",
    "\n",
    "Now lets try start to interrogate the data"
   ]
  },
  {
   "cell_type": "code",
   "execution_count": 16,
   "metadata": {},
   "outputs": [
    {
     "name": "stdout",
     "output_type": "stream",
     "text": [
      "date                    0.000000\n",
      "serial_number           0.000000\n",
      "model                   0.000000\n",
      "capacity_bytes          0.000000\n",
      "failure                 0.000000\n",
      "smart_1_normalized      0.000032\n",
      "smart_2_normalized      0.641019\n",
      "smart_3_normalized      0.000032\n",
      "smart_4_normalized      0.000032\n",
      "smart_5_normalized      0.000032\n",
      "smart_7_normalized      0.000032\n",
      "smart_8_normalized      0.641019\n",
      "smart_9_normalized      0.000032\n",
      "smart_10_normalized     0.000032\n",
      "smart_11_normalized     0.960527\n",
      "smart_12_normalized     0.000032\n",
      "smart_13_normalized     1.000000\n",
      "smart_15_normalized     1.000000\n",
      "smart_22_normalized     0.999394\n",
      "smart_183_normalized    0.503583\n",
      "smart_184_normalized    0.387593\n",
      "smart_187_normalized    0.387593\n",
      "smart_188_normalized    0.387593\n",
      "smart_189_normalized    0.387593\n",
      "smart_190_normalized    0.387593\n",
      "smart_191_normalized    0.371246\n",
      "smart_192_normalized    0.001263\n",
      "smart_193_normalized    0.012156\n",
      "smart_194_normalized    0.000032\n",
      "smart_195_normalized    0.843953\n",
      "smart_196_normalized    0.612439\n",
      "smart_197_normalized    0.000032\n",
      "smart_198_normalized    0.000032\n",
      "smart_199_normalized    0.000032\n",
      "smart_200_normalized    0.960527\n",
      "smart_201_normalized    1.000000\n",
      "smart_220_normalized    0.995899\n",
      "smart_222_normalized    0.995899\n",
      "smart_223_normalized    0.985007\n",
      "smart_224_normalized    0.995899\n",
      "smart_225_normalized    0.989108\n",
      "smart_226_normalized    0.995899\n",
      "smart_240_normalized    0.383105\n",
      "smart_241_normalized    0.388279\n",
      "smart_242_normalized    0.388279\n",
      "smart_250_normalized    0.999876\n",
      "smart_251_normalized    0.999876\n",
      "smart_252_normalized    0.999876\n",
      "smart_254_normalized    0.998559\n",
      "smart_255_normalized    1.000000\n",
      "dtype: float64\n"
     ]
    }
   ],
   "source": [
    "#Lets see how many NA's are across the whole data set.\n",
    "print(df[allrawCols].isna().sum()/len(df))"
   ]
  },
  {
   "cell_type": "code",
   "execution_count": 10,
   "metadata": {},
   "outputs": [
    {
     "data": {
      "text/plain": [
       "0.008550588071057132"
      ]
     },
     "execution_count": 10,
     "metadata": {},
     "output_type": "execute_result"
    }
   ],
   "source": [
    "\n",
    "#Make sure that the NA's arent associated with the failure lines.\n",
    "df['failure'].sum()/len(df.serial_number.unique())\n",
    " "
   ]
  },
  {
   "cell_type": "code",
   "execution_count": 20,
   "metadata": {},
   "outputs": [],
   "source": [
    "#so what we have is a number of columns that seem to have little information.  \n",
    "#Some are completly filled with NA'sand some are well over 80% NA.  \n",
    "#reading literature about what each SMART diagnostic measures tells us that some of the columns are manufacture specific,\n",
    "# some are for solid state hard drives, and thus not applicable to the type of drive in the data center.\n"
   ]
  },
  {
   "cell_type": "code",
   "execution_count": 21,
   "metadata": {},
   "outputs": [],
   "source": [
    "#check the corrolation matrix\n",
    "corrmat =df[normCols].corr()"
   ]
  },
  {
   "cell_type": "code",
   "execution_count": 22,
   "metadata": {},
   "outputs": [
    {
     "data": {
      "text/plain": [
       "<AxesSubplot:>"
      ]
     },
     "execution_count": 22,
     "metadata": {},
     "output_type": "execute_result"
    },
    {
     "data": {
      "image/png": "[encoded data removed]",
      "text/plain": [
       "<Figure size 792x648 with 2 Axes>"
      ]
     },
     "metadata": {
      "needs_background": "light"
     },
     "output_type": "display_data"
    }
   ],
   "source": [
    "mask = np.triu(np.ones_like(corrmat, dtype=bool))\n",
    "f, ax = plt.subplots(figsize=(11, 9))\n",
    "cmap = sns.diverging_palette(230, 20, as_cmap=True)\n",
    "#plot the matrix\n",
    "sns.heatmap(corrmat, mask=mask, cmap=cmap, vmax=.3, center=0,\n",
    "            square=True, linewidths=.5, cbar_kws={\"shrink\": .5})"
   ]
  },
  {
   "cell_type": "code",
   "execution_count": null,
   "metadata": {},
   "outputs": [],
   "source": [
    "# there are a lot of null values.  lets clear that up.  "
   ]
  },
  {
   "cell_type": "code",
   "execution_count": 59,
   "metadata": {},
   "outputs": [],
   "source": [
    "# Remove lines that are less than a certain threshold.\n",
    "df_80 = df[normCols].loc[:, df[normCols].isna().mean() < .80]\n",
    "#df_20 = df[normCols].loc[:, df[normCols].isna().mean() <.20]\n",
    "cols_80 = df_80.columns\n",
    "#cols_20 = df_20.columns\n"
   ]
  },
  {
   "cell_type": "code",
   "execution_count": 24,
   "metadata": {},
   "outputs": [
    {
     "data": {
      "text/plain": [
       "<AxesSubplot:>"
      ]
     },
     "execution_count": 24,
     "metadata": {},
     "output_type": "execute_result"
    },
    {
     "data": {
      "image/png": "[encoded data removed]",
      "text/plain": [
       "<Figure size 792x648 with 2 Axes>"
      ]
     },
     "metadata": {
      "needs_background": "light"
     },
     "output_type": "display_data"
    }
   ],
   "source": [
    "#check the corrolation plot again\n",
    "corrmat =df[.corr()\n",
    "mask = np.triu(np.ones_like(corrmat, dtype=bool))\n",
    "f, ax = plt.subplots(figsize=(11, 9))\n",
    "cmap = sns.diverging_palette(230, 20, as_cmap=True)\n",
    "#plot the matrix\n",
    "sns.heatmap(corrmat, mask=mask, cmap=cmap, vmax=.3, center=0,\n",
    "            square=True, linewidths=.5, cbar_kws={\"shrink\": .5}) \n"
   ]
  },
  {
   "cell_type": "code",
   "execution_count": 25,
   "metadata": {},
   "outputs": [
    {
     "data": {
      "text/plain": [
       "<AxesSubplot:>"
      ]
     },
     "execution_count": 25,
     "metadata": {},
     "output_type": "execute_result"
    },
    {
     "data": {
      "image/png": "[encoded data removed]",
      "text/plain": [
       "<Figure size 792x648 with 2 Axes>"
      ]
     },
     "metadata": {
      "needs_background": "light"
     },
     "output_type": "display_data"
    }
   ],
   "source": [
    "#check the corrolation plot again\n",
    "corrmat =df_20.corr()\n",
    "mask = np.triu(np.ones_like(corrmat, dtype=bool))\n",
    "f, ax = plt.subplots(figsize=(11, 9))\n",
    "cmap = sns.diverging_palette(230, 20, as_cmap=True)\n",
    "#plot the matrix\n",
    "sns.heatmap(corrmat, mask=mask, cmap=cmap, vmax=.3, center=0,\n",
    "            square=True, linewidths=.5, cbar_kws={\"shrink\": .5})"
   ]
  },
  {
   "cell_type": "markdown",
   "metadata": {},
   "source": [
    "### Colinearity summary\n",
    "The colinearity heatmaps look pretty good.  The highest value in the less than 20% of the columns are NA is just above .5, and is the assocaiton between smart 9 and smart 1.  This actually makes sense since smart 1 is the read error rate, and smart 9 is the time that the HDD has been running.there are quite a few rows that have basically zero corrolation.  The majority of corrolations in the heatmap are negative corrolations around 0.3 and below.   "
   ]
  },
  {
   "cell_type": "markdown",
   "metadata": {},
   "source": [
    "## Preparing for training\n",
    "\n",
    "The target feature that I am interested in predicitng is \"days until failure\". The data used to determine this will be all available data for the subset of drives that have experienced a failure. I will use the columns that have less than 80% missing data in the column.   "
   ]
  },
  {
   "cell_type": "code",
   "execution_count": 85,
   "metadata": {},
   "outputs": [],
   "source": [
    "#Get the data from the failed drives.\n",
    "#create the target variable in the failed drives\n",
    "fail['until_fail'] = fail['date'].groupby(fail['serial_number']).transform('max')-fail['date']\n",
    "\n",
    "\n",
    "#fail is the df containing all the feature and target and id information.  \n",
    "feature_cols = cols_80\n",
    "target_col = fail['until_fail'].dt.days\n"
   ]
  },
  {
   "cell_type": "code",
   "execution_count": null,
   "metadata": {},
   "outputs": [],
   "source": [
    "serial_nums = set(fail['serial_number'])\n",
    "train = random.sample(serial_nums, int(np.floor(.8*len(serial_nums))))"
   ]
  },
  {
   "cell_type": "code",
   "execution_count": 91,
   "metadata": {},
   "outputs": [],
   "source": [
    "import random\n",
    "#serial number train/test split\n",
    "serial_nums = set(fail['serial_number'])\n",
    "train = random.sample(serial_nums, int(np.floor(.8*len(serial_nums))))\n",
    "train_data = fail[fail['serial_number'].isin(train)]\n",
    "train_data = train_data[feature_cols]\n",
    "\n",
    "test_data = fail[~fail['serial_number'].isin(train)]\n",
    "test_data = test_data[feature_cols]\n",
    "\n",
    "train_lbl = fail['until_fail'][fail['serial_number'].isin(train)].dt.days\n",
    "test_lbl = fail['until_fail'][~fail['serial_number'].isin(train)].dt.days"
   ]
  },
  {
   "cell_type": "markdown",
   "metadata": {},
   "source": [
    "# PCA\n",
    "sicne there is high dimentionality, we will extract the latent features using PCA"
   ]
  },
  {
   "cell_type": "code",
   "execution_count": 126,
   "metadata": {},
   "outputs": [],
   "source": [
    "from sklearn.decomposition import PCA"
   ]
  },
  {
   "cell_type": "code",
   "execution_count": 127,
   "metadata": {},
   "outputs": [],
   "source": [
    "# PCA dosent work wioth missing data... more robust methods can be used later, for now, just fill with 0.  \n",
    "#fill the feature column NA's with 0\n",
    "train_data = train_data.fillna(0)\n",
    "test_data = test_data.fillna(0)"
   ]
  },
  {
   "cell_type": "code",
   "execution_count": 137,
   "metadata": {},
   "outputs": [
    {
     "name": "stdout",
     "output_type": "stream",
     "text": [
      "[7.64970162e-01 1.06527335e-01 6.51275936e-02 2.72253516e-02\n",
      " 1.25562545e-02 5.02452943e-03 4.43539416e-03 3.13150104e-03\n",
      " 2.57086079e-03 2.01536550e-03 1.50661535e-03 1.26335160e-03\n",
      " 8.76730487e-04 7.70428722e-04 5.70385296e-04 4.35705742e-04\n",
      " 3.50360330e-04 3.31995505e-04 1.47664042e-04 1.05391415e-04\n",
      " 5.64669881e-05 5.54633005e-07 2.30806122e-09 5.21774319e-33\n",
      " 5.21774319e-33 5.21774319e-33 5.21774319e-33]\n",
      "[2.96815538e+04 1.10763052e+04 8.66057846e+03 5.59952429e+03\n",
      " 3.80272080e+03 2.40553722e+03 2.26011478e+03 1.89906865e+03\n",
      " 1.72069408e+03 1.52349592e+03 1.31724203e+03 1.20621994e+03\n",
      " 1.00484121e+03 9.41956000e+02 8.10491650e+02 7.08371412e+02\n",
      " 6.35216613e+02 6.18344477e+02 4.12383956e+02 3.48391060e+02\n",
      " 2.55012633e+02 2.52736077e+01 1.63037702e+00 2.45135232e-12\n",
      " 2.45135232e-12 2.45135232e-12 2.45135232e-12]\n"
     ]
    }
   ],
   "source": [
    "pca = PCA(svd_solver='full')\n",
    "principalcomponents = pca.fit_transform(train_data)\n",
    "pcaCols = ['pca'+str(x+1) for x in range(len(feature_cols))]\n",
    "pca_df = pd.DataFrame(data = principalcomponents,\n",
    "                     columns =pcaCols)\n",
    "print(pca.explained_variance_ratio_)\n",
    "print(pca.singular_values_)"
   ]
  },
  {
   "cell_type": "code",
   "execution_count": null,
   "metadata": {},
   "outputs": [],
   "source": [
    "from sklearn.decomposition import PCA\n",
    "pca = PCA(n_components=2)\n",
    "principalComponents = pca.fit_transform(x)\n",
    "principalDf = pd.DataFrame(data = principalComponents\n",
    "             , columns = ['principal component 1', 'principal component 2'])"
   ]
  },
  {
   "cell_type": "code",
   "execution_count": 138,
   "metadata": {},
   "outputs": [
    {
     "data": {
      "text/plain": [
       "array([0.76497016, 0.8714975 , 0.93662509, 0.96385044, 0.9764067 ,\n",
       "       0.98143123, 0.98586662, 0.98899812, 0.99156898, 0.99358435,\n",
       "       0.99509096, 0.99635431, 0.99723105, 0.99800147, 0.99857186,\n",
       "       0.99900756, 0.99935793, 0.99968992, 0.99983758, 0.99994298,\n",
       "       0.99999944, 1.        , 1.        , 1.        , 1.        ,\n",
       "       1.        , 1.        ])"
      ]
     },
     "execution_count": 138,
     "metadata": {},
     "output_type": "execute_result"
    }
   ],
   "source": [
    "np.cumsum(pca.explained_variance_ratio_)"
   ]
  },
  {
   "cell_type": "code",
   "execution_count": null,
   "metadata": {},
   "outputs": [],
   "source": [
    "# we can see that thre are a few components that did not add any information to explain the variance.  "
   ]
  },
  {
   "cell_type": "code",
   "execution_count": null,
   "metadata": {},
   "outputs": [],
   "source": []
  },
  {
   "cell_type": "code",
   "execution_count": 139,
   "metadata": {},
   "outputs": [],
   "source": [
    "from sklearn.preprocessing import StandardScaler\n",
    "scaler = StandardScaler()\n",
    "# Fit on training set only.\n",
    "scaler.fit(train_data)\n",
    "# Apply transform to both the training set and the test set.\n",
    "train_data = scaler.transform(train_data)\n",
    "test_data = scaler.transform(test_data)"
   ]
  },
  {
   "cell_type": "code",
   "execution_count": 142,
   "metadata": {},
   "outputs": [
    {
     "data": {
      "text/plain": [
       "PCA(n_components=0.99)"
      ]
     },
     "execution_count": 142,
     "metadata": {},
     "output_type": "execute_result"
    }
   ],
   "source": [
    "pca = PCA(.99)\n",
    "pca.fit(train_data)"
   ]
  },
  {
   "cell_type": "code",
   "execution_count": 143,
   "metadata": {},
   "outputs": [],
   "source": [
    "train_data = pca.transform(train_data)\n",
    "test_data = pca.transform(test_data)"
   ]
  },
  {
   "cell_type": "code",
   "execution_count": 160,
   "metadata": {},
   "outputs": [
    {
     "data": {
      "text/plain": [
       "LinearRegression()"
      ]
     },
     "execution_count": 160,
     "metadata": {},
     "output_type": "execute_result"
    }
   ],
   "source": [
    "#import the model\n",
    "from sklearn.linear_model import LinearRegression\n",
    "model = LinearRegression()\n",
    "model.fit(train_data, train_lbl)"
   ]
  },
  {
   "cell_type": "code",
   "execution_count": 161,
   "metadata": {},
   "outputs": [
    {
     "data": {
      "text/plain": [
       "array([-1.4204394 ,  0.95553608, -0.89695486, -2.94264655,  3.86068547,\n",
       "       -7.00819305, -1.2730079 ,  5.98296466,  0.79377184,  2.7931988 ,\n",
       "       -3.57819633])"
      ]
     },
     "execution_count": 161,
     "metadata": {},
     "output_type": "execute_result"
    }
   ],
   "source": [
    "model.coef_"
   ]
  },
  {
   "cell_type": "code",
   "execution_count": 164,
   "metadata": {},
   "outputs": [
    {
     "data": {
      "text/plain": [
       "array([43.13407786, 59.38959781, 46.7498067 , ..., 44.87049363,\n",
       "       60.57490085, 61.60508801])"
      ]
     },
     "execution_count": 164,
     "metadata": {},
     "output_type": "execute_result"
    }
   ],
   "source": [
    "model.predict(test_data)"
   ]
  },
  {
   "cell_type": "code",
   "execution_count": 172,
   "metadata": {},
   "outputs": [
    {
     "data": {
      "text/plain": [
       "<matplotlib.collections.PathCollection at 0x7fb88ce31f40>"
      ]
     },
     "execution_count": 172,
     "metadata": {},
     "output_type": "execute_result"
    },
    {
     "data": {
      "image/png": "[encoded data removed]",
      "text/plain": [
       "<Figure size 432x288 with 1 Axes>"
      ]
     },
     "metadata": {
      "needs_background": "light"
     },
     "output_type": "display_data"
    }
   ],
   "source": [
    "x = test_lbl\n",
    "y = model.predict(test_data)\n",
    "diff = abs(x-y)\n",
    "x1 = range(len(x))\n",
    "R2 = model.score(test_data,test_lbl)\n",
    "plt.title('Coefficient of derterminiation='+str(R2))\n",
    "plt.scatter(x1,diff, marker = \".\")"
   ]
  },
  {
   "cell_type": "code",
   "execution_count": null,
   "metadata": {},
   "outputs": [],
   "source": [
    "#This is a horrible model right now.  but its a model!"
   ]
  },
  {
   "cell_type": "code",
   "execution_count": null,
   "metadata": {},
   "outputs": [],
   "source": []
  },
  {
   "cell_type": "code",
   "execution_count": 29,
   "metadata": {},
   "outputs": [
    {
     "name": "stderr",
     "output_type": "stream",
     "text": [
      "<ipython-input-29-83e088e6ddb7>:2: SettingWithCopyWarning: \n",
      "A value is trying to be set on a copy of a slice from a DataFrame.\n",
      "Try using .loc[row_indexer,col_indexer] = value instead\n",
      "\n",
      "See the caveats in the documentation: https://pandas.pydata.org/pandas-docs/stable/user_guide/indexing.html#returning-a-view-versus-a-copy\n",
      "  df_20['days_running'] = df_20['date']-df_20['date'].groupby(df_20['serial_number']).transform('min')\n"
     ]
    }
   ],
   "source": [
    "df_20 = df[IDCols.append(cols_20)]\n",
    "df_20['days_running'] = df_20['date']-df_20['date'].groupby(df_20['serial_number']).transform('min')\n",
    "#add days running. to main df.  Make sure to move this to the right place.\n",
    "d['days'] = d['date'] - d['date'].groupby(d['SN']).transform('min')\n",
    "\n",
    "#fail_grouped = fail[IDCols.append(cols_20)]\n",
    "\n",
    "#fail_grouped['days_until_fail'] =  fail_grouped['date'].groupby(fail_grouped['serial_number']).transform('max')-fail_grouped['date'] \n"
   ]
  },
  {
   "cell_type": "code",
   "execution_count": 30,
   "metadata": {},
   "outputs": [
    {
     "data": {
      "text/html": [
       "<div>\n",
       "<style scoped>\n",
       "    .dataframe tbody tr th:only-of-type {\n",
       "        vertical-align: middle;\n",
       "    }\n",
       "\n",
       "    .dataframe tbody tr th {\n",
       "        vertical-align: top;\n",
       "    }\n",
       "\n",
       "    .dataframe thead th {\n",
       "        text-align: right;\n",
       "    }\n",
       "</style>\n",
       "<table border=\"1\" class=\"dataframe\">\n",
       "  <thead>\n",
       "    <tr style=\"text-align: right;\">\n",
       "      <th></th>\n",
       "      <th>date</th>\n",
       "      <th>serial_number</th>\n",
       "      <th>model</th>\n",
       "      <th>capacity_bytes</th>\n",
       "      <th>failure</th>\n",
       "      <th>smart_1_normalized</th>\n",
       "      <th>smart_3_normalized</th>\n",
       "      <th>smart_4_normalized</th>\n",
       "      <th>smart_5_normalized</th>\n",
       "      <th>smart_7_normalized</th>\n",
       "      <th>smart_9_normalized</th>\n",
       "      <th>smart_10_normalized</th>\n",
       "      <th>smart_12_normalized</th>\n",
       "      <th>smart_192_normalized</th>\n",
       "      <th>smart_193_normalized</th>\n",
       "      <th>smart_194_normalized</th>\n",
       "      <th>smart_197_normalized</th>\n",
       "      <th>smart_198_normalized</th>\n",
       "      <th>smart_199_normalized</th>\n",
       "      <th>days_running</th>\n",
       "    </tr>\n",
       "  </thead>\n",
       "  <tbody>\n",
       "    <tr>\n",
       "      <th>0</th>\n",
       "      <td>2017-01-01</td>\n",
       "      <td>MJ0351YNG9Z0XA</td>\n",
       "      <td>Hitachi HDS5C3030ALA630</td>\n",
       "      <td>3.000593e+12</td>\n",
       "      <td>0</td>\n",
       "      <td>100.0</td>\n",
       "      <td>127.0</td>\n",
       "      <td>100.0</td>\n",
       "      <td>100.0</td>\n",
       "      <td>100.0</td>\n",
       "      <td>95.0</td>\n",
       "      <td>100.0</td>\n",
       "      <td>100.0</td>\n",
       "      <td>100.0</td>\n",
       "      <td>100.0</td>\n",
       "      <td>214.0</td>\n",
       "      <td>100.0</td>\n",
       "      <td>100.0</td>\n",
       "      <td>200.0</td>\n",
       "      <td>92 days</td>\n",
       "    </tr>\n",
       "    <tr>\n",
       "      <th>1</th>\n",
       "      <td>2017-01-01</td>\n",
       "      <td>MJ0351YNG9WJSA</td>\n",
       "      <td>Hitachi HDS5C3030ALA630</td>\n",
       "      <td>3.000593e+12</td>\n",
       "      <td>0</td>\n",
       "      <td>100.0</td>\n",
       "      <td>126.0</td>\n",
       "      <td>100.0</td>\n",
       "      <td>100.0</td>\n",
       "      <td>100.0</td>\n",
       "      <td>95.0</td>\n",
       "      <td>100.0</td>\n",
       "      <td>100.0</td>\n",
       "      <td>100.0</td>\n",
       "      <td>100.0</td>\n",
       "      <td>253.0</td>\n",
       "      <td>100.0</td>\n",
       "      <td>100.0</td>\n",
       "      <td>200.0</td>\n",
       "      <td>92 days</td>\n",
       "    </tr>\n",
       "    <tr>\n",
       "      <th>2</th>\n",
       "      <td>2017-01-01</td>\n",
       "      <td>PL1321LAG34XWH</td>\n",
       "      <td>Hitachi HDS5C4040ALE630</td>\n",
       "      <td>4.000787e+12</td>\n",
       "      <td>0</td>\n",
       "      <td>100.0</td>\n",
       "      <td>130.0</td>\n",
       "      <td>100.0</td>\n",
       "      <td>100.0</td>\n",
       "      <td>100.0</td>\n",
       "      <td>96.0</td>\n",
       "      <td>100.0</td>\n",
       "      <td>100.0</td>\n",
       "      <td>100.0</td>\n",
       "      <td>100.0</td>\n",
       "      <td>206.0</td>\n",
       "      <td>100.0</td>\n",
       "      <td>100.0</td>\n",
       "      <td>200.0</td>\n",
       "      <td>92 days</td>\n",
       "    </tr>\n",
       "    <tr>\n",
       "      <th>3</th>\n",
       "      <td>2017-01-01</td>\n",
       "      <td>MJ0351YNGABYAA</td>\n",
       "      <td>Hitachi HDS5C3030ALA630</td>\n",
       "      <td>3.000593e+12</td>\n",
       "      <td>0</td>\n",
       "      <td>100.0</td>\n",
       "      <td>137.0</td>\n",
       "      <td>100.0</td>\n",
       "      <td>100.0</td>\n",
       "      <td>100.0</td>\n",
       "      <td>95.0</td>\n",
       "      <td>100.0</td>\n",
       "      <td>100.0</td>\n",
       "      <td>100.0</td>\n",
       "      <td>100.0</td>\n",
       "      <td>230.0</td>\n",
       "      <td>100.0</td>\n",
       "      <td>100.0</td>\n",
       "      <td>200.0</td>\n",
       "      <td>92 days</td>\n",
       "    </tr>\n",
       "    <tr>\n",
       "      <th>4</th>\n",
       "      <td>2017-01-01</td>\n",
       "      <td>Z305B2QN</td>\n",
       "      <td>ST4000DM000</td>\n",
       "      <td>4.000787e+12</td>\n",
       "      <td>0</td>\n",
       "      <td>113.0</td>\n",
       "      <td>91.0</td>\n",
       "      <td>100.0</td>\n",
       "      <td>100.0</td>\n",
       "      <td>85.0</td>\n",
       "      <td>90.0</td>\n",
       "      <td>100.0</td>\n",
       "      <td>100.0</td>\n",
       "      <td>100.0</td>\n",
       "      <td>84.0</td>\n",
       "      <td>24.0</td>\n",
       "      <td>100.0</td>\n",
       "      <td>100.0</td>\n",
       "      <td>200.0</td>\n",
       "      <td>92 days</td>\n",
       "    </tr>\n",
       "    <tr>\n",
       "      <th>...</th>\n",
       "      <td>...</td>\n",
       "      <td>...</td>\n",
       "      <td>...</td>\n",
       "      <td>...</td>\n",
       "      <td>...</td>\n",
       "      <td>...</td>\n",
       "      <td>...</td>\n",
       "      <td>...</td>\n",
       "      <td>...</td>\n",
       "      <td>...</td>\n",
       "      <td>...</td>\n",
       "      <td>...</td>\n",
       "      <td>...</td>\n",
       "      <td>...</td>\n",
       "      <td>...</td>\n",
       "      <td>...</td>\n",
       "      <td>...</td>\n",
       "      <td>...</td>\n",
       "      <td>...</td>\n",
       "      <td>...</td>\n",
       "    </tr>\n",
       "    <tr>\n",
       "      <th>13221546</th>\n",
       "      <td>2016-10-02</td>\n",
       "      <td>PL1331LAHD1AWH</td>\n",
       "      <td>HGST HMS5C4040BLE640</td>\n",
       "      <td>4.000787e+12</td>\n",
       "      <td>0</td>\n",
       "      <td>100.0</td>\n",
       "      <td>100.0</td>\n",
       "      <td>100.0</td>\n",
       "      <td>100.0</td>\n",
       "      <td>100.0</td>\n",
       "      <td>100.0</td>\n",
       "      <td>100.0</td>\n",
       "      <td>100.0</td>\n",
       "      <td>100.0</td>\n",
       "      <td>100.0</td>\n",
       "      <td>253.0</td>\n",
       "      <td>100.0</td>\n",
       "      <td>100.0</td>\n",
       "      <td>200.0</td>\n",
       "      <td>1 days</td>\n",
       "    </tr>\n",
       "    <tr>\n",
       "      <th>13221547</th>\n",
       "      <td>2016-10-02</td>\n",
       "      <td>Z3016V0V</td>\n",
       "      <td>ST4000DM000</td>\n",
       "      <td>4.000787e+12</td>\n",
       "      <td>0</td>\n",
       "      <td>118.0</td>\n",
       "      <td>91.0</td>\n",
       "      <td>100.0</td>\n",
       "      <td>100.0</td>\n",
       "      <td>81.0</td>\n",
       "      <td>74.0</td>\n",
       "      <td>100.0</td>\n",
       "      <td>100.0</td>\n",
       "      <td>100.0</td>\n",
       "      <td>88.0</td>\n",
       "      <td>20.0</td>\n",
       "      <td>100.0</td>\n",
       "      <td>100.0</td>\n",
       "      <td>200.0</td>\n",
       "      <td>1 days</td>\n",
       "    </tr>\n",
       "    <tr>\n",
       "      <th>13221548</th>\n",
       "      <td>2016-10-02</td>\n",
       "      <td>MJ1323YNG1LZJC</td>\n",
       "      <td>Hitachi HDS5C3030ALA630</td>\n",
       "      <td>3.000593e+12</td>\n",
       "      <td>0</td>\n",
       "      <td>100.0</td>\n",
       "      <td>124.0</td>\n",
       "      <td>100.0</td>\n",
       "      <td>100.0</td>\n",
       "      <td>100.0</td>\n",
       "      <td>94.0</td>\n",
       "      <td>100.0</td>\n",
       "      <td>100.0</td>\n",
       "      <td>99.0</td>\n",
       "      <td>99.0</td>\n",
       "      <td>214.0</td>\n",
       "      <td>100.0</td>\n",
       "      <td>100.0</td>\n",
       "      <td>200.0</td>\n",
       "      <td>1 days</td>\n",
       "    </tr>\n",
       "    <tr>\n",
       "      <th>13221549</th>\n",
       "      <td>2016-10-02</td>\n",
       "      <td>S300YQXW</td>\n",
       "      <td>ST4000DM000</td>\n",
       "      <td>4.000787e+12</td>\n",
       "      <td>0</td>\n",
       "      <td>116.0</td>\n",
       "      <td>96.0</td>\n",
       "      <td>100.0</td>\n",
       "      <td>100.0</td>\n",
       "      <td>85.0</td>\n",
       "      <td>88.0</td>\n",
       "      <td>100.0</td>\n",
       "      <td>100.0</td>\n",
       "      <td>100.0</td>\n",
       "      <td>76.0</td>\n",
       "      <td>22.0</td>\n",
       "      <td>100.0</td>\n",
       "      <td>100.0</td>\n",
       "      <td>200.0</td>\n",
       "      <td>1 days</td>\n",
       "    </tr>\n",
       "    <tr>\n",
       "      <th>13221550</th>\n",
       "      <td>2016-10-02</td>\n",
       "      <td>Z30271GD</td>\n",
       "      <td>ST4000DM000</td>\n",
       "      <td>4.000787e+12</td>\n",
       "      <td>0</td>\n",
       "      <td>120.0</td>\n",
       "      <td>91.0</td>\n",
       "      <td>100.0</td>\n",
       "      <td>100.0</td>\n",
       "      <td>88.0</td>\n",
       "      <td>84.0</td>\n",
       "      <td>100.0</td>\n",
       "      <td>100.0</td>\n",
       "      <td>100.0</td>\n",
       "      <td>87.0</td>\n",
       "      <td>30.0</td>\n",
       "      <td>100.0</td>\n",
       "      <td>100.0</td>\n",
       "      <td>200.0</td>\n",
       "      <td>1 days</td>\n",
       "    </tr>\n",
       "  </tbody>\n",
       "</table>\n",
       "<p>13221551 rows × 20 columns</p>\n",
       "</div>"
      ],
      "text/plain": [
       "               date   serial_number                    model  capacity_bytes  \\\n",
       "0        2017-01-01  MJ0351YNG9Z0XA  Hitachi HDS5C3030ALA630    3.000593e+12   \n",
       "1        2017-01-01  MJ0351YNG9WJSA  Hitachi HDS5C3030ALA630    3.000593e+12   \n",
       "2        2017-01-01  PL1321LAG34XWH  Hitachi HDS5C4040ALE630    4.000787e+12   \n",
       "3        2017-01-01  MJ0351YNGABYAA  Hitachi HDS5C3030ALA630    3.000593e+12   \n",
       "4        2017-01-01        Z305B2QN              ST4000DM000    4.000787e+12   \n",
       "...             ...             ...                      ...             ...   \n",
       "13221546 2016-10-02  PL1331LAHD1AWH     HGST HMS5C4040BLE640    4.000787e+12   \n",
       "13221547 2016-10-02        Z3016V0V              ST4000DM000    4.000787e+12   \n",
       "13221548 2016-10-02  MJ1323YNG1LZJC  Hitachi HDS5C3030ALA630    3.000593e+12   \n",
       "13221549 2016-10-02        S300YQXW              ST4000DM000    4.000787e+12   \n",
       "13221550 2016-10-02        Z30271GD              ST4000DM000    4.000787e+12   \n",
       "\n",
       "         failure  smart_1_normalized  smart_3_normalized  smart_4_normalized  \\\n",
       "0              0               100.0               127.0               100.0   \n",
       "1              0               100.0               126.0               100.0   \n",
       "2              0               100.0               130.0               100.0   \n",
       "3              0               100.0               137.0               100.0   \n",
       "4              0               113.0                91.0               100.0   \n",
       "...          ...                 ...                 ...                 ...   \n",
       "13221546       0               100.0               100.0               100.0   \n",
       "13221547       0               118.0                91.0               100.0   \n",
       "13221548       0               100.0               124.0               100.0   \n",
       "13221549       0               116.0                96.0               100.0   \n",
       "13221550       0               120.0                91.0               100.0   \n",
       "\n",
       "          smart_5_normalized  smart_7_normalized  smart_9_normalized  \\\n",
       "0                      100.0               100.0                95.0   \n",
       "1                      100.0               100.0                95.0   \n",
       "2                      100.0               100.0                96.0   \n",
       "3                      100.0               100.0                95.0   \n",
       "4                      100.0                85.0                90.0   \n",
       "...                      ...                 ...                 ...   \n",
       "13221546               100.0               100.0               100.0   \n",
       "13221547               100.0                81.0                74.0   \n",
       "13221548               100.0               100.0                94.0   \n",
       "13221549               100.0                85.0                88.0   \n",
       "13221550               100.0                88.0                84.0   \n",
       "\n",
       "          smart_10_normalized  smart_12_normalized  smart_192_normalized  \\\n",
       "0                       100.0                100.0                 100.0   \n",
       "1                       100.0                100.0                 100.0   \n",
       "2                       100.0                100.0                 100.0   \n",
       "3                       100.0                100.0                 100.0   \n",
       "4                       100.0                100.0                 100.0   \n",
       "...                       ...                  ...                   ...   \n",
       "13221546                100.0                100.0                 100.0   \n",
       "13221547                100.0                100.0                 100.0   \n",
       "13221548                100.0                100.0                  99.0   \n",
       "13221549                100.0                100.0                 100.0   \n",
       "13221550                100.0                100.0                 100.0   \n",
       "\n",
       "          smart_193_normalized  smart_194_normalized  smart_197_normalized  \\\n",
       "0                        100.0                 214.0                 100.0   \n",
       "1                        100.0                 253.0                 100.0   \n",
       "2                        100.0                 206.0                 100.0   \n",
       "3                        100.0                 230.0                 100.0   \n",
       "4                         84.0                  24.0                 100.0   \n",
       "...                        ...                   ...                   ...   \n",
       "13221546                 100.0                 253.0                 100.0   \n",
       "13221547                  88.0                  20.0                 100.0   \n",
       "13221548                  99.0                 214.0                 100.0   \n",
       "13221549                  76.0                  22.0                 100.0   \n",
       "13221550                  87.0                  30.0                 100.0   \n",
       "\n",
       "          smart_198_normalized  smart_199_normalized days_running  \n",
       "0                        100.0                 200.0      92 days  \n",
       "1                        100.0                 200.0      92 days  \n",
       "2                        100.0                 200.0      92 days  \n",
       "3                        100.0                 200.0      92 days  \n",
       "4                        100.0                 200.0      92 days  \n",
       "...                        ...                   ...          ...  \n",
       "13221546                 100.0                 200.0       1 days  \n",
       "13221547                 100.0                 200.0       1 days  \n",
       "13221548                 100.0                 200.0       1 days  \n",
       "13221549                 100.0                 200.0       1 days  \n",
       "13221550                 100.0                 200.0       1 days  \n",
       "\n",
       "[13221551 rows x 20 columns]"
      ]
     },
     "execution_count": 30,
     "metadata": {},
     "output_type": "execute_result"
    }
   ],
   "source": [
    "df_20"
   ]
  },
  {
   "cell_type": "code",
   "execution_count": 24,
   "metadata": {},
   "outputs": [
    {
     "data": {
      "text/html": [
       "<div>\n",
       "<style scoped>\n",
       "    .dataframe tbody tr th:only-of-type {\n",
       "        vertical-align: middle;\n",
       "    }\n",
       "\n",
       "    .dataframe tbody tr th {\n",
       "        vertical-align: top;\n",
       "    }\n",
       "\n",
       "    .dataframe thead th {\n",
       "        text-align: right;\n",
       "    }\n",
       "</style>\n",
       "<table border=\"1\" class=\"dataframe\">\n",
       "  <thead>\n",
       "    <tr style=\"text-align: right;\">\n",
       "      <th></th>\n",
       "      <th>date</th>\n",
       "      <th>serial_number</th>\n",
       "      <th>model</th>\n",
       "      <th>capacity_bytes</th>\n",
       "      <th>failure</th>\n",
       "      <th>smart_1_normalized</th>\n",
       "      <th>smart_3_normalized</th>\n",
       "      <th>smart_4_normalized</th>\n",
       "      <th>smart_5_normalized</th>\n",
       "      <th>smart_7_normalized</th>\n",
       "      <th>smart_9_normalized</th>\n",
       "      <th>smart_10_normalized</th>\n",
       "      <th>smart_12_normalized</th>\n",
       "      <th>smart_192_normalized</th>\n",
       "      <th>smart_193_normalized</th>\n",
       "      <th>smart_194_normalized</th>\n",
       "      <th>smart_197_normalized</th>\n",
       "      <th>smart_198_normalized</th>\n",
       "      <th>smart_199_normalized</th>\n",
       "      <th>until</th>\n",
       "    </tr>\n",
       "  </thead>\n",
       "  <tbody>\n",
       "    <tr>\n",
       "      <th>0</th>\n",
       "      <td>2017-01-01</td>\n",
       "      <td>Z300KMM3</td>\n",
       "      <td>ST4000DM000</td>\n",
       "      <td>4.000787e+12</td>\n",
       "      <td>0</td>\n",
       "      <td>119.0</td>\n",
       "      <td>91.0</td>\n",
       "      <td>100.0</td>\n",
       "      <td>100.0</td>\n",
       "      <td>81.0</td>\n",
       "      <td>67.0</td>\n",
       "      <td>100.0</td>\n",
       "      <td>100.0</td>\n",
       "      <td>100.0</td>\n",
       "      <td>35.0</td>\n",
       "      <td>27.0</td>\n",
       "      <td>100.0</td>\n",
       "      <td>100.0</td>\n",
       "      <td>200.0</td>\n",
       "      <td>77 days</td>\n",
       "    </tr>\n",
       "    <tr>\n",
       "      <th>1</th>\n",
       "      <td>2017-01-01</td>\n",
       "      <td>Z302DK2R</td>\n",
       "      <td>ST4000DM000</td>\n",
       "      <td>4.000787e+12</td>\n",
       "      <td>0</td>\n",
       "      <td>116.0</td>\n",
       "      <td>92.0</td>\n",
       "      <td>100.0</td>\n",
       "      <td>100.0</td>\n",
       "      <td>87.0</td>\n",
       "      <td>83.0</td>\n",
       "      <td>100.0</td>\n",
       "      <td>100.0</td>\n",
       "      <td>100.0</td>\n",
       "      <td>83.0</td>\n",
       "      <td>24.0</td>\n",
       "      <td>100.0</td>\n",
       "      <td>100.0</td>\n",
       "      <td>200.0</td>\n",
       "      <td>24 days</td>\n",
       "    </tr>\n",
       "    <tr>\n",
       "      <th>2</th>\n",
       "      <td>2017-01-01</td>\n",
       "      <td>Z3051NNA</td>\n",
       "      <td>ST4000DM000</td>\n",
       "      <td>4.000787e+12</td>\n",
       "      <td>0</td>\n",
       "      <td>119.0</td>\n",
       "      <td>92.0</td>\n",
       "      <td>100.0</td>\n",
       "      <td>100.0</td>\n",
       "      <td>85.0</td>\n",
       "      <td>90.0</td>\n",
       "      <td>100.0</td>\n",
       "      <td>100.0</td>\n",
       "      <td>100.0</td>\n",
       "      <td>83.0</td>\n",
       "      <td>29.0</td>\n",
       "      <td>100.0</td>\n",
       "      <td>100.0</td>\n",
       "      <td>200.0</td>\n",
       "      <td>19 days</td>\n",
       "    </tr>\n",
       "    <tr>\n",
       "      <th>3</th>\n",
       "      <td>2017-01-01</td>\n",
       "      <td>S300Z60P</td>\n",
       "      <td>ST4000DM000</td>\n",
       "      <td>4.000787e+12</td>\n",
       "      <td>0</td>\n",
       "      <td>119.0</td>\n",
       "      <td>99.0</td>\n",
       "      <td>100.0</td>\n",
       "      <td>100.0</td>\n",
       "      <td>87.0</td>\n",
       "      <td>85.0</td>\n",
       "      <td>100.0</td>\n",
       "      <td>100.0</td>\n",
       "      <td>100.0</td>\n",
       "      <td>81.0</td>\n",
       "      <td>26.0</td>\n",
       "      <td>100.0</td>\n",
       "      <td>100.0</td>\n",
       "      <td>200.0</td>\n",
       "      <td>64 days</td>\n",
       "    </tr>\n",
       "    <tr>\n",
       "      <th>4</th>\n",
       "      <td>2017-01-01</td>\n",
       "      <td>Z1Z06H5C</td>\n",
       "      <td>ST4000DX000</td>\n",
       "      <td>4.000787e+12</td>\n",
       "      <td>0</td>\n",
       "      <td>117.0</td>\n",
       "      <td>90.0</td>\n",
       "      <td>100.0</td>\n",
       "      <td>100.0</td>\n",
       "      <td>92.0</td>\n",
       "      <td>87.0</td>\n",
       "      <td>100.0</td>\n",
       "      <td>100.0</td>\n",
       "      <td>100.0</td>\n",
       "      <td>100.0</td>\n",
       "      <td>27.0</td>\n",
       "      <td>100.0</td>\n",
       "      <td>100.0</td>\n",
       "      <td>200.0</td>\n",
       "      <td>39 days</td>\n",
       "    </tr>\n",
       "    <tr>\n",
       "      <th>...</th>\n",
       "      <td>...</td>\n",
       "      <td>...</td>\n",
       "      <td>...</td>\n",
       "      <td>...</td>\n",
       "      <td>...</td>\n",
       "      <td>...</td>\n",
       "      <td>...</td>\n",
       "      <td>...</td>\n",
       "      <td>...</td>\n",
       "      <td>...</td>\n",
       "      <td>...</td>\n",
       "      <td>...</td>\n",
       "      <td>...</td>\n",
       "      <td>...</td>\n",
       "      <td>...</td>\n",
       "      <td>...</td>\n",
       "      <td>...</td>\n",
       "      <td>...</td>\n",
       "      <td>...</td>\n",
       "      <td>...</td>\n",
       "    </tr>\n",
       "    <tr>\n",
       "      <th>63369</th>\n",
       "      <td>2016-10-02</td>\n",
       "      <td>Z302F0C2</td>\n",
       "      <td>ST4000DM000</td>\n",
       "      <td>4.000787e+12</td>\n",
       "      <td>0</td>\n",
       "      <td>114.0</td>\n",
       "      <td>99.0</td>\n",
       "      <td>100.0</td>\n",
       "      <td>100.0</td>\n",
       "      <td>87.0</td>\n",
       "      <td>86.0</td>\n",
       "      <td>100.0</td>\n",
       "      <td>100.0</td>\n",
       "      <td>100.0</td>\n",
       "      <td>84.0</td>\n",
       "      <td>23.0</td>\n",
       "      <td>100.0</td>\n",
       "      <td>100.0</td>\n",
       "      <td>200.0</td>\n",
       "      <td>38 days</td>\n",
       "    </tr>\n",
       "    <tr>\n",
       "      <th>63370</th>\n",
       "      <td>2016-10-02</td>\n",
       "      <td>Z1Z058NN</td>\n",
       "      <td>ST4000DX000</td>\n",
       "      <td>4.000787e+12</td>\n",
       "      <td>0</td>\n",
       "      <td>120.0</td>\n",
       "      <td>91.0</td>\n",
       "      <td>100.0</td>\n",
       "      <td>100.0</td>\n",
       "      <td>96.0</td>\n",
       "      <td>66.0</td>\n",
       "      <td>100.0</td>\n",
       "      <td>100.0</td>\n",
       "      <td>100.0</td>\n",
       "      <td>100.0</td>\n",
       "      <td>36.0</td>\n",
       "      <td>100.0</td>\n",
       "      <td>100.0</td>\n",
       "      <td>200.0</td>\n",
       "      <td>31 days</td>\n",
       "    </tr>\n",
       "    <tr>\n",
       "      <th>63371</th>\n",
       "      <td>2016-10-02</td>\n",
       "      <td>S300ZS0Z</td>\n",
       "      <td>ST4000DM000</td>\n",
       "      <td>4.000787e+12</td>\n",
       "      <td>0</td>\n",
       "      <td>111.0</td>\n",
       "      <td>92.0</td>\n",
       "      <td>100.0</td>\n",
       "      <td>100.0</td>\n",
       "      <td>86.0</td>\n",
       "      <td>88.0</td>\n",
       "      <td>100.0</td>\n",
       "      <td>100.0</td>\n",
       "      <td>100.0</td>\n",
       "      <td>82.0</td>\n",
       "      <td>30.0</td>\n",
       "      <td>100.0</td>\n",
       "      <td>100.0</td>\n",
       "      <td>200.0</td>\n",
       "      <td>82 days</td>\n",
       "    </tr>\n",
       "    <tr>\n",
       "      <th>63372</th>\n",
       "      <td>2016-10-02</td>\n",
       "      <td>W300R8AC</td>\n",
       "      <td>ST4000DM000</td>\n",
       "      <td>4.000787e+12</td>\n",
       "      <td>0</td>\n",
       "      <td>119.0</td>\n",
       "      <td>91.0</td>\n",
       "      <td>100.0</td>\n",
       "      <td>100.0</td>\n",
       "      <td>85.0</td>\n",
       "      <td>77.0</td>\n",
       "      <td>100.0</td>\n",
       "      <td>100.0</td>\n",
       "      <td>100.0</td>\n",
       "      <td>92.0</td>\n",
       "      <td>20.0</td>\n",
       "      <td>100.0</td>\n",
       "      <td>100.0</td>\n",
       "      <td>200.0</td>\n",
       "      <td>144 days</td>\n",
       "    </tr>\n",
       "    <tr>\n",
       "      <th>63373</th>\n",
       "      <td>2016-10-02</td>\n",
       "      <td>W300D55C</td>\n",
       "      <td>ST4000DM000</td>\n",
       "      <td>4.000787e+12</td>\n",
       "      <td>0</td>\n",
       "      <td>117.0</td>\n",
       "      <td>91.0</td>\n",
       "      <td>100.0</td>\n",
       "      <td>100.0</td>\n",
       "      <td>60.0</td>\n",
       "      <td>68.0</td>\n",
       "      <td>100.0</td>\n",
       "      <td>100.0</td>\n",
       "      <td>100.0</td>\n",
       "      <td>95.0</td>\n",
       "      <td>27.0</td>\n",
       "      <td>100.0</td>\n",
       "      <td>100.0</td>\n",
       "      <td>200.0</td>\n",
       "      <td>89 days</td>\n",
       "    </tr>\n",
       "  </tbody>\n",
       "</table>\n",
       "<p>63374 rows × 20 columns</p>\n",
       "</div>"
      ],
      "text/plain": [
       "            date serial_number        model  capacity_bytes failure  \\\n",
       "0     2017-01-01      Z300KMM3  ST4000DM000    4.000787e+12       0   \n",
       "1     2017-01-01      Z302DK2R  ST4000DM000    4.000787e+12       0   \n",
       "2     2017-01-01      Z3051NNA  ST4000DM000    4.000787e+12       0   \n",
       "3     2017-01-01      S300Z60P  ST4000DM000    4.000787e+12       0   \n",
       "4     2017-01-01      Z1Z06H5C  ST4000DX000    4.000787e+12       0   \n",
       "...          ...           ...          ...             ...     ...   \n",
       "63369 2016-10-02      Z302F0C2  ST4000DM000    4.000787e+12       0   \n",
       "63370 2016-10-02      Z1Z058NN  ST4000DX000    4.000787e+12       0   \n",
       "63371 2016-10-02      S300ZS0Z  ST4000DM000    4.000787e+12       0   \n",
       "63372 2016-10-02      W300R8AC  ST4000DM000    4.000787e+12       0   \n",
       "63373 2016-10-02      W300D55C  ST4000DM000    4.000787e+12       0   \n",
       "\n",
       "       smart_1_normalized  smart_3_normalized  smart_4_normalized  \\\n",
       "0                   119.0                91.0               100.0   \n",
       "1                   116.0                92.0               100.0   \n",
       "2                   119.0                92.0               100.0   \n",
       "3                   119.0                99.0               100.0   \n",
       "4                   117.0                90.0               100.0   \n",
       "...                   ...                 ...                 ...   \n",
       "63369               114.0                99.0               100.0   \n",
       "63370               120.0                91.0               100.0   \n",
       "63371               111.0                92.0               100.0   \n",
       "63372               119.0                91.0               100.0   \n",
       "63373               117.0                91.0               100.0   \n",
       "\n",
       "       smart_5_normalized  smart_7_normalized  smart_9_normalized  \\\n",
       "0                   100.0                81.0                67.0   \n",
       "1                   100.0                87.0                83.0   \n",
       "2                   100.0                85.0                90.0   \n",
       "3                   100.0                87.0                85.0   \n",
       "4                   100.0                92.0                87.0   \n",
       "...                   ...                 ...                 ...   \n",
       "63369               100.0                87.0                86.0   \n",
       "63370               100.0                96.0                66.0   \n",
       "63371               100.0                86.0                88.0   \n",
       "63372               100.0                85.0                77.0   \n",
       "63373               100.0                60.0                68.0   \n",
       "\n",
       "       smart_10_normalized  smart_12_normalized  smart_192_normalized  \\\n",
       "0                    100.0                100.0                 100.0   \n",
       "1                    100.0                100.0                 100.0   \n",
       "2                    100.0                100.0                 100.0   \n",
       "3                    100.0                100.0                 100.0   \n",
       "4                    100.0                100.0                 100.0   \n",
       "...                    ...                  ...                   ...   \n",
       "63369                100.0                100.0                 100.0   \n",
       "63370                100.0                100.0                 100.0   \n",
       "63371                100.0                100.0                 100.0   \n",
       "63372                100.0                100.0                 100.0   \n",
       "63373                100.0                100.0                 100.0   \n",
       "\n",
       "       smart_193_normalized  smart_194_normalized  smart_197_normalized  \\\n",
       "0                      35.0                  27.0                 100.0   \n",
       "1                      83.0                  24.0                 100.0   \n",
       "2                      83.0                  29.0                 100.0   \n",
       "3                      81.0                  26.0                 100.0   \n",
       "4                     100.0                  27.0                 100.0   \n",
       "...                     ...                   ...                   ...   \n",
       "63369                  84.0                  23.0                 100.0   \n",
       "63370                 100.0                  36.0                 100.0   \n",
       "63371                  82.0                  30.0                 100.0   \n",
       "63372                  92.0                  20.0                 100.0   \n",
       "63373                  95.0                  27.0                 100.0   \n",
       "\n",
       "       smart_198_normalized  smart_199_normalized    until  \n",
       "0                     100.0                 200.0  77 days  \n",
       "1                     100.0                 200.0  24 days  \n",
       "2                     100.0                 200.0  19 days  \n",
       "3                     100.0                 200.0  64 days  \n",
       "4                     100.0                 200.0  39 days  \n",
       "...                     ...                   ...      ...  \n",
       "63369                 100.0                 200.0  38 days  \n",
       "63370                 100.0                 200.0  31 days  \n",
       "63371                 100.0                 200.0  82 days  \n",
       "63372                 100.0                 200.0 144 days  \n",
       "63373                 100.0                 200.0  89 days  \n",
       "\n",
       "[63374 rows x 20 columns]"
      ]
     },
     "execution_count": 24,
     "metadata": {},
     "output_type": "execute_result"
    }
   ],
   "source": [
    "df_20['days_running'] = df_20['date']-df_20.groupby(df_20['serial_number']).transform('min')\n"
   ]
  },
  {
   "cell_type": "code",
   "execution_count": 38,
   "metadata": {},
   "outputs": [
    {
     "data": {
      "text/plain": [
       "198.0"
      ]
     },
     "execution_count": 38,
     "metadata": {},
     "output_type": "execute_result"
    }
   ],
   "source": []
  },
  {
   "cell_type": "markdown",
   "metadata": {},
   "source": [
    "## Grouping.  \n",
    "set the days until failed column this is what we are ultimatly trying to predict."
   ]
  },
  {
   "cell_type": "code",
   "execution_count": 12,
   "metadata": {},
   "outputs": [],
   "source": [
    "#get the drives that failed and group them by serial number. we have some of this from above.\n",
    "# fail_drives is the df of all lines of serial numbers that failed.\n",
    "# data from the drives taht failed\n",
    "fail_20 =fail[cols_20]\n"
   ]
  },
  {
   "cell_type": "code",
   "execution_count": 17,
   "metadata": {},
   "outputs": [],
   "source": [
    "from sklearn.decomposition import NMF\n"
   ]
  },
  {
   "cell_type": "code",
   "execution_count": 22,
   "metadata": {},
   "outputs": [],
   "source": [
    "# replace nan with zeros. hope this is ok.  it probably isnt, but I want to get. result. \n",
    "# ill do a better data impute later.\n",
    "# Ill just make note and fix this later during refinement.\n",
    "# if all the zeros are gone, I can do PCA too.\n",
    "fail_20_filled = fail_20.fillna(0)\n",
    "df_20_filled = df_20.fillna(0)"
   ]
  },
  {
   "cell_type": "code",
   "execution_count": 29,
   "metadata": {},
   "outputs": [
    {
     "ename": "KeyboardInterrupt",
     "evalue": "",
     "output_type": "error",
     "traceback": [
      "\u001b[0;31m---------------------------------------------------------------------------\u001b[0m",
      "\u001b[0;31mKeyboardInterrupt\u001b[0m                         Traceback (most recent call last)",
      "\u001b[0;32m<ipython-input-29-18e802720f29>\u001b[0m in \u001b[0;36m<module>\u001b[0;34m\u001b[0m\n\u001b[1;32m      1\u001b[0m \u001b[0mmodel\u001b[0m \u001b[0;34m=\u001b[0m \u001b[0mNMF\u001b[0m\u001b[0;34m(\u001b[0m\u001b[0mn_components\u001b[0m\u001b[0;34m=\u001b[0m\u001b[0;36m10\u001b[0m\u001b[0;34m,\u001b[0m \u001b[0minit\u001b[0m\u001b[0;34m=\u001b[0m\u001b[0;34m'random'\u001b[0m\u001b[0;34m,\u001b[0m \u001b[0mrandom_state\u001b[0m\u001b[0;34m=\u001b[0m\u001b[0;36m0\u001b[0m\u001b[0;34m,\u001b[0m \u001b[0mmax_iter\u001b[0m\u001b[0;34m=\u001b[0m\u001b[0;36m5000\u001b[0m\u001b[0;34m)\u001b[0m\u001b[0;34m\u001b[0m\u001b[0;34m\u001b[0m\u001b[0m\n\u001b[0;32m----> 2\u001b[0;31m \u001b[0mW\u001b[0m \u001b[0;34m=\u001b[0m \u001b[0mmodel\u001b[0m\u001b[0;34m.\u001b[0m\u001b[0mfit_transform\u001b[0m\u001b[0;34m(\u001b[0m\u001b[0mdf_20_filled\u001b[0m\u001b[0;34m)\u001b[0m\u001b[0;34m\u001b[0m\u001b[0;34m\u001b[0m\u001b[0m\n\u001b[0m\u001b[1;32m      3\u001b[0m \u001b[0mH\u001b[0m \u001b[0;34m=\u001b[0m \u001b[0mmodel\u001b[0m\u001b[0;34m.\u001b[0m\u001b[0mcomponents_\u001b[0m\u001b[0;34m\u001b[0m\u001b[0;34m\u001b[0m\u001b[0m\n",
      "\u001b[0;32m/Applications/anaconda3/envs/py38/lib/python3.8/site-packages/sklearn/decomposition/_nmf.py\u001b[0m in \u001b[0;36mfit_transform\u001b[0;34m(self, X, y, W, H)\u001b[0m\n\u001b[1;32m   1281\u001b[0m                                 dtype=[np.float64, np.float32])\n\u001b[1;32m   1282\u001b[0m \u001b[0;34m\u001b[0m\u001b[0m\n\u001b[0;32m-> 1283\u001b[0;31m         W, H, n_iter_ = non_negative_factorization(\n\u001b[0m\u001b[1;32m   1284\u001b[0m             \u001b[0mX\u001b[0m\u001b[0;34m=\u001b[0m\u001b[0mX\u001b[0m\u001b[0;34m,\u001b[0m \u001b[0mW\u001b[0m\u001b[0;34m=\u001b[0m\u001b[0mW\u001b[0m\u001b[0;34m,\u001b[0m \u001b[0mH\u001b[0m\u001b[0;34m=\u001b[0m\u001b[0mH\u001b[0m\u001b[0;34m,\u001b[0m \u001b[0mn_components\u001b[0m\u001b[0;34m=\u001b[0m\u001b[0mself\u001b[0m\u001b[0;34m.\u001b[0m\u001b[0mn_components\u001b[0m\u001b[0;34m,\u001b[0m \u001b[0minit\u001b[0m\u001b[0;34m=\u001b[0m\u001b[0mself\u001b[0m\u001b[0;34m.\u001b[0m\u001b[0minit\u001b[0m\u001b[0;34m,\u001b[0m\u001b[0;34m\u001b[0m\u001b[0;34m\u001b[0m\u001b[0m\n\u001b[1;32m   1285\u001b[0m             \u001b[0mupdate_H\u001b[0m\u001b[0;34m=\u001b[0m\u001b[0;32mTrue\u001b[0m\u001b[0;34m,\u001b[0m \u001b[0msolver\u001b[0m\u001b[0;34m=\u001b[0m\u001b[0mself\u001b[0m\u001b[0;34m.\u001b[0m\u001b[0msolver\u001b[0m\u001b[0;34m,\u001b[0m \u001b[0mbeta_loss\u001b[0m\u001b[0;34m=\u001b[0m\u001b[0mself\u001b[0m\u001b[0;34m.\u001b[0m\u001b[0mbeta_loss\u001b[0m\u001b[0;34m,\u001b[0m\u001b[0;34m\u001b[0m\u001b[0;34m\u001b[0m\u001b[0m\n",
      "\u001b[0;32m/Applications/anaconda3/envs/py38/lib/python3.8/site-packages/sklearn/utils/validation.py\u001b[0m in \u001b[0;36minner_f\u001b[0;34m(*args, **kwargs)\u001b[0m\n\u001b[1;32m     70\u001b[0m                           FutureWarning)\n\u001b[1;32m     71\u001b[0m         \u001b[0mkwargs\u001b[0m\u001b[0;34m.\u001b[0m\u001b[0mupdate\u001b[0m\u001b[0;34m(\u001b[0m\u001b[0;34m{\u001b[0m\u001b[0mk\u001b[0m\u001b[0;34m:\u001b[0m \u001b[0marg\u001b[0m \u001b[0;32mfor\u001b[0m \u001b[0mk\u001b[0m\u001b[0;34m,\u001b[0m \u001b[0marg\u001b[0m \u001b[0;32min\u001b[0m \u001b[0mzip\u001b[0m\u001b[0;34m(\u001b[0m\u001b[0msig\u001b[0m\u001b[0;34m.\u001b[0m\u001b[0mparameters\u001b[0m\u001b[0;34m,\u001b[0m \u001b[0margs\u001b[0m\u001b[0;34m)\u001b[0m\u001b[0;34m}\u001b[0m\u001b[0;34m)\u001b[0m\u001b[0;34m\u001b[0m\u001b[0;34m\u001b[0m\u001b[0m\n\u001b[0;32m---> 72\u001b[0;31m         \u001b[0;32mreturn\u001b[0m \u001b[0mf\u001b[0m\u001b[0;34m(\u001b[0m\u001b[0;34m**\u001b[0m\u001b[0mkwargs\u001b[0m\u001b[0;34m)\u001b[0m\u001b[0;34m\u001b[0m\u001b[0;34m\u001b[0m\u001b[0m\n\u001b[0m\u001b[1;32m     73\u001b[0m     \u001b[0;32mreturn\u001b[0m \u001b[0minner_f\u001b[0m\u001b[0;34m\u001b[0m\u001b[0;34m\u001b[0m\u001b[0m\n\u001b[1;32m     74\u001b[0m \u001b[0;34m\u001b[0m\u001b[0m\n",
      "\u001b[0;32m/Applications/anaconda3/envs/py38/lib/python3.8/site-packages/sklearn/decomposition/_nmf.py\u001b[0m in \u001b[0;36mnon_negative_factorization\u001b[0;34m(X, W, H, n_components, init, update_H, solver, beta_loss, tol, max_iter, alpha, l1_ratio, regularization, random_state, verbose, shuffle)\u001b[0m\n\u001b[1;32m   1057\u001b[0m \u001b[0;34m\u001b[0m\u001b[0m\n\u001b[1;32m   1058\u001b[0m     \u001b[0;32mif\u001b[0m \u001b[0msolver\u001b[0m \u001b[0;34m==\u001b[0m \u001b[0;34m'cd'\u001b[0m\u001b[0;34m:\u001b[0m\u001b[0;34m\u001b[0m\u001b[0;34m\u001b[0m\u001b[0m\n\u001b[0;32m-> 1059\u001b[0;31m         W, H, n_iter = _fit_coordinate_descent(X, W, H, tol, max_iter,\n\u001b[0m\u001b[1;32m   1060\u001b[0m                                                \u001b[0ml1_reg_W\u001b[0m\u001b[0;34m,\u001b[0m \u001b[0ml1_reg_H\u001b[0m\u001b[0;34m,\u001b[0m\u001b[0;34m\u001b[0m\u001b[0;34m\u001b[0m\u001b[0m\n\u001b[1;32m   1061\u001b[0m                                                \u001b[0ml2_reg_W\u001b[0m\u001b[0;34m,\u001b[0m \u001b[0ml2_reg_H\u001b[0m\u001b[0;34m,\u001b[0m\u001b[0;34m\u001b[0m\u001b[0;34m\u001b[0m\u001b[0m\n",
      "\u001b[0;32m/Applications/anaconda3/envs/py38/lib/python3.8/site-packages/sklearn/decomposition/_nmf.py\u001b[0m in \u001b[0;36m_fit_coordinate_descent\u001b[0;34m(X, W, H, tol, max_iter, l1_reg_W, l1_reg_H, l2_reg_W, l2_reg_H, update_H, verbose, shuffle, random_state)\u001b[0m\n\u001b[1;32m    507\u001b[0m \u001b[0;34m\u001b[0m\u001b[0m\n\u001b[1;32m    508\u001b[0m         \u001b[0;31m# Update W\u001b[0m\u001b[0;34m\u001b[0m\u001b[0;34m\u001b[0m\u001b[0;34m\u001b[0m\u001b[0m\n\u001b[0;32m--> 509\u001b[0;31m         violation += _update_coordinate_descent(X, W, Ht, l1_reg_W,\n\u001b[0m\u001b[1;32m    510\u001b[0m                                                 l2_reg_W, shuffle, rng)\n\u001b[1;32m    511\u001b[0m         \u001b[0;31m# Update H\u001b[0m\u001b[0;34m\u001b[0m\u001b[0;34m\u001b[0m\u001b[0;34m\u001b[0m\u001b[0m\n",
      "\u001b[0;32m/Applications/anaconda3/envs/py38/lib/python3.8/site-packages/sklearn/decomposition/_nmf.py\u001b[0m in \u001b[0;36m_update_coordinate_descent\u001b[0;34m(X, W, Ht, l1_reg, l2_reg, shuffle, random_state)\u001b[0m\n\u001b[1;32m    422\u001b[0m     \u001b[0;31m# The following seems to be required on 64-bit Windows w/ Python 3.5.\u001b[0m\u001b[0;34m\u001b[0m\u001b[0;34m\u001b[0m\u001b[0;34m\u001b[0m\u001b[0m\n\u001b[1;32m    423\u001b[0m     \u001b[0mpermutation\u001b[0m \u001b[0;34m=\u001b[0m \u001b[0mnp\u001b[0m\u001b[0;34m.\u001b[0m\u001b[0masarray\u001b[0m\u001b[0;34m(\u001b[0m\u001b[0mpermutation\u001b[0m\u001b[0;34m,\u001b[0m \u001b[0mdtype\u001b[0m\u001b[0;34m=\u001b[0m\u001b[0mnp\u001b[0m\u001b[0;34m.\u001b[0m\u001b[0mintp\u001b[0m\u001b[0;34m)\u001b[0m\u001b[0;34m\u001b[0m\u001b[0;34m\u001b[0m\u001b[0m\n\u001b[0;32m--> 424\u001b[0;31m     \u001b[0;32mreturn\u001b[0m \u001b[0m_update_cdnmf_fast\u001b[0m\u001b[0;34m(\u001b[0m\u001b[0mW\u001b[0m\u001b[0;34m,\u001b[0m \u001b[0mHHt\u001b[0m\u001b[0;34m,\u001b[0m \u001b[0mXHt\u001b[0m\u001b[0;34m,\u001b[0m \u001b[0mpermutation\u001b[0m\u001b[0;34m)\u001b[0m\u001b[0;34m\u001b[0m\u001b[0;34m\u001b[0m\u001b[0m\n\u001b[0m\u001b[1;32m    425\u001b[0m \u001b[0;34m\u001b[0m\u001b[0m\n\u001b[1;32m    426\u001b[0m \u001b[0;34m\u001b[0m\u001b[0m\n",
      "\u001b[0;31mKeyboardInterrupt\u001b[0m: "
     ]
    }
   ],
   "source": [
    "model = NMF(n_components=10, init='random', random_state=0, max_iter=5000)\n",
    "W = model.fit_transform(df_20_filled)\n",
    "H = model.components_"
   ]
  },
  {
   "cell_type": "code",
   "execution_count": null,
   "metadata": {},
   "outputs": [],
   "source": []
  },
  {
   "cell_type": "code",
   "execution_count": 28,
   "metadata": {},
   "outputs": [],
   "source": [
    "W_fail = model.fit_transform(fail_20_filled)\n",
    "H_fail = model.components_"
   ]
  },
  {
   "cell_type": "code",
   "execution_count": 1,
   "metadata": {},
   "outputs": [
    {
     "ename": "NameError",
     "evalue": "name 'H_fail' is not defined",
     "output_type": "error",
     "traceback": [
      "\u001b[0;31m---------------------------------------------------------------------------\u001b[0m",
      "\u001b[0;31mNameError\u001b[0m                                 Traceback (most recent call last)",
      "\u001b[0;32m<ipython-input-1-d7ac10fa9d42>\u001b[0m in \u001b[0;36m<module>\u001b[0;34m\u001b[0m\n\u001b[0;32m----> 1\u001b[0;31m \u001b[0mH_fail\u001b[0m\u001b[0;34m\u001b[0m\u001b[0;34m\u001b[0m\u001b[0m\n\u001b[0m",
      "\u001b[0;31mNameError\u001b[0m: name 'H_fail' is not defined"
     ]
    }
   ],
   "source": [
    "H_fail"
   ]
  },
  {
   "cell_type": "code",
   "execution_count": 31,
   "metadata": {},
   "outputs": [],
   "source": [
    "\n",
    "#PCA\n",
    "from sklearn.decomposition import PCA"
   ]
  },
  {
   "cell_type": "code",
   "execution_count": 32,
   "metadata": {},
   "outputs": [
    {
     "name": "stdout",
     "output_type": "stream",
     "text": [
      "[7.14280439e-01 1.73440896e-01 7.01582825e-02 1.83707105e-02\n",
      " 9.03461881e-03 5.52458230e-03 3.48961356e-03 3.00980418e-03\n",
      " 1.98127017e-03 4.29837881e-04 2.37862472e-04 2.43389054e-05\n",
      " 1.67091247e-05 1.03429039e-06]\n",
      "[347440.75119362 171207.24221199 108889.4618328   55719.77500499\n",
      "  39075.20756343  30555.97182186  24284.82871025  22553.58045024\n",
      "  18298.61532471   8523.12229807   6340.29319124   2028.13517916\n",
      "   1680.44083498    418.08792196]\n"
     ]
    }
   ],
   "source": [
    "pca = PCA(svd_solver='full')\n",
    "pca.fit(df_20_filled)\n",
    "#PCA(svd_solver='full')\n",
    "print(pca.explained_variance_ratio_)\n",
    "print(pca.singular_values_)"
   ]
  },
  {
   "cell_type": "code",
   "execution_count": 77,
   "metadata": {},
   "outputs": [
    {
     "name": "stdout",
     "output_type": "stream",
     "text": [
      "[7.14280439e-01 1.73440896e-01 7.01582825e-02 1.83707105e-02\n",
      " 9.03461881e-03 5.52458230e-03 3.48961356e-03 3.00980418e-03\n",
      " 1.98127017e-03 4.29837881e-04 2.37862472e-04 2.43389054e-05\n",
      " 1.67091247e-05 1.03429039e-06]\n",
      "[347440.75119362 171207.24221199 108889.4618328   55719.77500499\n",
      "  39075.20756343  30555.97182186  24284.82871025  22553.58045024\n",
      "  18298.61532471   8523.12229807   6340.29319124   2028.13517916\n",
      "   1680.44083498    418.08792196]\n"
     ]
    }
   ],
   "source": [
    "pca = PCA(svd_solver='full')\n",
    "pca.fit(df_20_filled)\n",
    "print(pca.explained_variance_ratio_)\n",
    "print(pca.singular_values_)"
   ]
  },
  {
   "cell_type": "code",
   "execution_count": 52,
   "metadata": {},
   "outputs": [
    {
     "data": {
      "text/plain": [
       "17.544"
      ]
     },
     "execution_count": 52,
     "metadata": {},
     "output_type": "execute_result"
    }
   ],
   "source": []
  },
  {
   "cell_type": "code",
   "execution_count": 66,
   "metadata": {},
   "outputs": [],
   "source": []
  },
  {
   "cell_type": "code",
   "execution_count": 67,
   "metadata": {},
   "outputs": [
    {
     "data": {
      "text/plain": [
       "47.41111111111112"
      ]
     },
     "execution_count": 67,
     "metadata": {},
     "output_type": "execute_result"
    }
   ],
   "source": [
    "\n"
   ]
  },
  {
   "cell_type": "code",
   "execution_count": null,
   "metadata": {},
   "outputs": [],
   "source": []
  }
 ],
 "metadata": {
  "kernelspec": {
   "display_name": "Python 3",
   "language": "python",
   "name": "python3"
  },
  "language_info": {
   "codemirror_mode": {
    "name": "ipython",
    "version": 3
   },
   "file_extension": ".py",
   "mimetype": "text/x-python",
   "name": "python",
   "nbconvert_exporter": "python",
   "pygments_lexer": "ipython3",
   "version": "3.8.5"
  }
 },
 "nbformat": 4,
 "nbformat_minor": 4
}
