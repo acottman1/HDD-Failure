{
 "cells": [
  {
   "cell_type": "markdown",
   "metadata": {},
   "source": [
    "# Predictive Maintinance and Analysis of Back Blaze Hard Disk Drives.\n",
    "### Introduction\n",
    "\n",
    "Put write up here.\n",
    "\n",
    "## Data Import and Data Wrangling"
   ]
  },
  {
   "cell_type": "code",
   "execution_count": 22,
   "metadata": {},
   "outputs": [],
   "source": [
    "import pandas as pd\n",
    "import numpy as np\n",
    "import seaborn as sns\n",
    "import matplotlib.pyplot as plt\n",
    "import os \n",
    "import glob\n"
   ]
  },
  {
   "cell_type": "code",
   "execution_count": 2,
   "metadata": {},
   "outputs": [],
   "source": [
    "os.getcwd()\n",
    "path = '/Users/Aron/CDS/CDS_492/HDD-Failure'\n",
    "os.chdir(path)"
   ]
  },
  {
   "cell_type": "code",
   "execution_count": 3,
   "metadata": {},
   "outputs": [],
   "source": [
    "#read in the data\n",
    "#make list of all the files \n",
    "#files = [f for f in glob.glob(\"data/*/*.csv\")]\n",
    "\n",
    "df = pd.concat([pd.read_csv(f) for f in glob.glob(\"data/*/*.csv\")],ignore_index = True)\n"
   ]
  },
  {
   "cell_type": "code",
   "execution_count": 38,
   "metadata": {},
   "outputs": [],
   "source": [
    "# make lists of column names needed\n",
    "IDCols = df.columns[0:5]\n",
    "rawCols = df.columns[6:95:2]\n",
    "allrawCols = IDCols.append(rawCols)\n",
    "normCols = df.columns[5:96:2]\n",
    "allNormCols = IDCols.append(normCols)"
   ]
  },
  {
   "cell_type": "code",
   "execution_count": 40,
   "metadata": {},
   "outputs": [
    {
     "name": "stdout",
     "output_type": "stream",
     "text": [
      "Index(['smart_1_raw'], dtype='object')\n",
      "Index(['smart_1_normalized', 'smart_2_normalized', 'smart_3_normalized',\n",
      "       'smart_4_normalized', 'smart_5_normalized', 'smart_7_normalized',\n",
      "       'smart_8_normalized'],\n",
      "      dtype='object')\n"
     ]
    }
   ],
   "source": [
    "IDCols[-1]\n",
    "print(rawCols[0:1])\n",
    "df.columns[:8]\n",
    "print(normCols[0:7])"
   ]
  },
  {
   "cell_type": "code",
   "execution_count": 8,
   "metadata": {},
   "outputs": [],
   "source": [
    "#turn the date column to an actual date.\n",
    "df['date'] = pd.to_datetime(df['date'])"
   ]
  },
  {
   "cell_type": "code",
   "execution_count": 9,
   "metadata": {},
   "outputs": [],
   "source": [
    "# sort by date then group by serial number.\n",
    "#df = df.sort_values(['date'])\n",
    "#df = df.groupby(['serial_number'])"
   ]
  },
  {
   "cell_type": "code",
   "execution_count": 10,
   "metadata": {},
   "outputs": [
    {
     "data": {
      "text/html": [
       "<div>\n",
       "<style scoped>\n",
       "    .dataframe tbody tr th:only-of-type {\n",
       "        vertical-align: middle;\n",
       "    }\n",
       "\n",
       "    .dataframe tbody tr th {\n",
       "        vertical-align: top;\n",
       "    }\n",
       "\n",
       "    .dataframe thead th {\n",
       "        text-align: right;\n",
       "    }\n",
       "</style>\n",
       "<table border=\"1\" class=\"dataframe\">\n",
       "  <thead>\n",
       "    <tr style=\"text-align: right;\">\n",
       "      <th></th>\n",
       "      <th>date</th>\n",
       "      <th>serial_number</th>\n",
       "      <th>model</th>\n",
       "      <th>capacity_bytes</th>\n",
       "      <th>failure</th>\n",
       "      <th>smart_1_normalized</th>\n",
       "      <th>smart_1_raw</th>\n",
       "      <th>smart_2_normalized</th>\n",
       "      <th>smart_2_raw</th>\n",
       "      <th>smart_3_normalized</th>\n",
       "      <th>...</th>\n",
       "      <th>smart_250_normalized</th>\n",
       "      <th>smart_250_raw</th>\n",
       "      <th>smart_251_normalized</th>\n",
       "      <th>smart_251_raw</th>\n",
       "      <th>smart_252_normalized</th>\n",
       "      <th>smart_252_raw</th>\n",
       "      <th>smart_254_normalized</th>\n",
       "      <th>smart_254_raw</th>\n",
       "      <th>smart_255_normalized</th>\n",
       "      <th>smart_255_raw</th>\n",
       "    </tr>\n",
       "  </thead>\n",
       "  <tbody>\n",
       "    <tr>\n",
       "      <th>17</th>\n",
       "      <td>2017-01-01</td>\n",
       "      <td>Z300KMM3</td>\n",
       "      <td>ST4000DM000</td>\n",
       "      <td>4.000787e+12</td>\n",
       "      <td>0</td>\n",
       "      <td>119.0</td>\n",
       "      <td>221434504.0</td>\n",
       "      <td>NaN</td>\n",
       "      <td>NaN</td>\n",
       "      <td>91.0</td>\n",
       "      <td>...</td>\n",
       "      <td>NaN</td>\n",
       "      <td>NaN</td>\n",
       "      <td>NaN</td>\n",
       "      <td>NaN</td>\n",
       "      <td>NaN</td>\n",
       "      <td>NaN</td>\n",
       "      <td>NaN</td>\n",
       "      <td>NaN</td>\n",
       "      <td>NaN</td>\n",
       "      <td>NaN</td>\n",
       "    </tr>\n",
       "    <tr>\n",
       "      <th>88</th>\n",
       "      <td>2017-01-01</td>\n",
       "      <td>Z302DK2R</td>\n",
       "      <td>ST4000DM000</td>\n",
       "      <td>4.000787e+12</td>\n",
       "      <td>0</td>\n",
       "      <td>116.0</td>\n",
       "      <td>109378928.0</td>\n",
       "      <td>NaN</td>\n",
       "      <td>NaN</td>\n",
       "      <td>92.0</td>\n",
       "      <td>...</td>\n",
       "      <td>NaN</td>\n",
       "      <td>NaN</td>\n",
       "      <td>NaN</td>\n",
       "      <td>NaN</td>\n",
       "      <td>NaN</td>\n",
       "      <td>NaN</td>\n",
       "      <td>NaN</td>\n",
       "      <td>NaN</td>\n",
       "      <td>NaN</td>\n",
       "      <td>NaN</td>\n",
       "    </tr>\n",
       "    <tr>\n",
       "      <th>246</th>\n",
       "      <td>2017-01-01</td>\n",
       "      <td>Z3051NNA</td>\n",
       "      <td>ST4000DM000</td>\n",
       "      <td>4.000787e+12</td>\n",
       "      <td>0</td>\n",
       "      <td>119.0</td>\n",
       "      <td>215001112.0</td>\n",
       "      <td>NaN</td>\n",
       "      <td>NaN</td>\n",
       "      <td>92.0</td>\n",
       "      <td>...</td>\n",
       "      <td>NaN</td>\n",
       "      <td>NaN</td>\n",
       "      <td>NaN</td>\n",
       "      <td>NaN</td>\n",
       "      <td>NaN</td>\n",
       "      <td>NaN</td>\n",
       "      <td>NaN</td>\n",
       "      <td>NaN</td>\n",
       "      <td>NaN</td>\n",
       "      <td>NaN</td>\n",
       "    </tr>\n",
       "    <tr>\n",
       "      <th>257</th>\n",
       "      <td>2017-01-01</td>\n",
       "      <td>S300Z60P</td>\n",
       "      <td>ST4000DM000</td>\n",
       "      <td>4.000787e+12</td>\n",
       "      <td>0</td>\n",
       "      <td>119.0</td>\n",
       "      <td>204581520.0</td>\n",
       "      <td>NaN</td>\n",
       "      <td>NaN</td>\n",
       "      <td>99.0</td>\n",
       "      <td>...</td>\n",
       "      <td>NaN</td>\n",
       "      <td>NaN</td>\n",
       "      <td>NaN</td>\n",
       "      <td>NaN</td>\n",
       "      <td>NaN</td>\n",
       "      <td>NaN</td>\n",
       "      <td>NaN</td>\n",
       "      <td>NaN</td>\n",
       "      <td>NaN</td>\n",
       "      <td>NaN</td>\n",
       "    </tr>\n",
       "    <tr>\n",
       "      <th>544</th>\n",
       "      <td>2017-01-01</td>\n",
       "      <td>Z1Z06H5C</td>\n",
       "      <td>ST4000DX000</td>\n",
       "      <td>4.000787e+12</td>\n",
       "      <td>0</td>\n",
       "      <td>117.0</td>\n",
       "      <td>130295575.0</td>\n",
       "      <td>NaN</td>\n",
       "      <td>NaN</td>\n",
       "      <td>90.0</td>\n",
       "      <td>...</td>\n",
       "      <td>NaN</td>\n",
       "      <td>NaN</td>\n",
       "      <td>NaN</td>\n",
       "      <td>NaN</td>\n",
       "      <td>NaN</td>\n",
       "      <td>NaN</td>\n",
       "      <td>NaN</td>\n",
       "      <td>NaN</td>\n",
       "      <td>NaN</td>\n",
       "      <td>NaN</td>\n",
       "    </tr>\n",
       "    <tr>\n",
       "      <th>...</th>\n",
       "      <td>...</td>\n",
       "      <td>...</td>\n",
       "      <td>...</td>\n",
       "      <td>...</td>\n",
       "      <td>...</td>\n",
       "      <td>...</td>\n",
       "      <td>...</td>\n",
       "      <td>...</td>\n",
       "      <td>...</td>\n",
       "      <td>...</td>\n",
       "      <td>...</td>\n",
       "      <td>...</td>\n",
       "      <td>...</td>\n",
       "      <td>...</td>\n",
       "      <td>...</td>\n",
       "      <td>...</td>\n",
       "      <td>...</td>\n",
       "      <td>...</td>\n",
       "      <td>...</td>\n",
       "      <td>...</td>\n",
       "      <td>...</td>\n",
       "    </tr>\n",
       "    <tr>\n",
       "      <th>13221292</th>\n",
       "      <td>2016-10-02</td>\n",
       "      <td>Z302F0C2</td>\n",
       "      <td>ST4000DM000</td>\n",
       "      <td>4.000787e+12</td>\n",
       "      <td>0</td>\n",
       "      <td>114.0</td>\n",
       "      <td>59586600.0</td>\n",
       "      <td>NaN</td>\n",
       "      <td>NaN</td>\n",
       "      <td>99.0</td>\n",
       "      <td>...</td>\n",
       "      <td>NaN</td>\n",
       "      <td>NaN</td>\n",
       "      <td>NaN</td>\n",
       "      <td>NaN</td>\n",
       "      <td>NaN</td>\n",
       "      <td>NaN</td>\n",
       "      <td>NaN</td>\n",
       "      <td>NaN</td>\n",
       "      <td>NaN</td>\n",
       "      <td>NaN</td>\n",
       "    </tr>\n",
       "    <tr>\n",
       "      <th>13221406</th>\n",
       "      <td>2016-10-02</td>\n",
       "      <td>Z1Z058NN</td>\n",
       "      <td>ST4000DX000</td>\n",
       "      <td>4.000787e+12</td>\n",
       "      <td>0</td>\n",
       "      <td>120.0</td>\n",
       "      <td>732471.0</td>\n",
       "      <td>NaN</td>\n",
       "      <td>NaN</td>\n",
       "      <td>91.0</td>\n",
       "      <td>...</td>\n",
       "      <td>NaN</td>\n",
       "      <td>NaN</td>\n",
       "      <td>NaN</td>\n",
       "      <td>NaN</td>\n",
       "      <td>NaN</td>\n",
       "      <td>NaN</td>\n",
       "      <td>NaN</td>\n",
       "      <td>NaN</td>\n",
       "      <td>NaN</td>\n",
       "      <td>NaN</td>\n",
       "    </tr>\n",
       "    <tr>\n",
       "      <th>13221417</th>\n",
       "      <td>2016-10-02</td>\n",
       "      <td>S300ZS0Z</td>\n",
       "      <td>ST4000DM000</td>\n",
       "      <td>4.000787e+12</td>\n",
       "      <td>0</td>\n",
       "      <td>111.0</td>\n",
       "      <td>35144768.0</td>\n",
       "      <td>NaN</td>\n",
       "      <td>NaN</td>\n",
       "      <td>92.0</td>\n",
       "      <td>...</td>\n",
       "      <td>NaN</td>\n",
       "      <td>NaN</td>\n",
       "      <td>NaN</td>\n",
       "      <td>NaN</td>\n",
       "      <td>NaN</td>\n",
       "      <td>NaN</td>\n",
       "      <td>NaN</td>\n",
       "      <td>NaN</td>\n",
       "      <td>NaN</td>\n",
       "      <td>NaN</td>\n",
       "    </tr>\n",
       "    <tr>\n",
       "      <th>13221449</th>\n",
       "      <td>2016-10-02</td>\n",
       "      <td>W300R8AC</td>\n",
       "      <td>ST4000DM000</td>\n",
       "      <td>4.000787e+12</td>\n",
       "      <td>0</td>\n",
       "      <td>119.0</td>\n",
       "      <td>210218736.0</td>\n",
       "      <td>NaN</td>\n",
       "      <td>NaN</td>\n",
       "      <td>91.0</td>\n",
       "      <td>...</td>\n",
       "      <td>NaN</td>\n",
       "      <td>NaN</td>\n",
       "      <td>NaN</td>\n",
       "      <td>NaN</td>\n",
       "      <td>NaN</td>\n",
       "      <td>NaN</td>\n",
       "      <td>NaN</td>\n",
       "      <td>NaN</td>\n",
       "      <td>NaN</td>\n",
       "      <td>NaN</td>\n",
       "    </tr>\n",
       "    <tr>\n",
       "      <th>13221494</th>\n",
       "      <td>2016-10-02</td>\n",
       "      <td>W300D55C</td>\n",
       "      <td>ST4000DM000</td>\n",
       "      <td>4.000787e+12</td>\n",
       "      <td>0</td>\n",
       "      <td>117.0</td>\n",
       "      <td>144672816.0</td>\n",
       "      <td>NaN</td>\n",
       "      <td>NaN</td>\n",
       "      <td>91.0</td>\n",
       "      <td>...</td>\n",
       "      <td>NaN</td>\n",
       "      <td>NaN</td>\n",
       "      <td>NaN</td>\n",
       "      <td>NaN</td>\n",
       "      <td>NaN</td>\n",
       "      <td>NaN</td>\n",
       "      <td>NaN</td>\n",
       "      <td>NaN</td>\n",
       "      <td>NaN</td>\n",
       "      <td>NaN</td>\n",
       "    </tr>\n",
       "  </tbody>\n",
       "</table>\n",
       "<p>63374 rows × 95 columns</p>\n",
       "</div>"
      ],
      "text/plain": [
       "               date serial_number        model  capacity_bytes failure  \\\n",
       "17       2017-01-01      Z300KMM3  ST4000DM000    4.000787e+12       0   \n",
       "88       2017-01-01      Z302DK2R  ST4000DM000    4.000787e+12       0   \n",
       "246      2017-01-01      Z3051NNA  ST4000DM000    4.000787e+12       0   \n",
       "257      2017-01-01      S300Z60P  ST4000DM000    4.000787e+12       0   \n",
       "544      2017-01-01      Z1Z06H5C  ST4000DX000    4.000787e+12       0   \n",
       "...             ...           ...          ...             ...     ...   \n",
       "13221292 2016-10-02      Z302F0C2  ST4000DM000    4.000787e+12       0   \n",
       "13221406 2016-10-02      Z1Z058NN  ST4000DX000    4.000787e+12       0   \n",
       "13221417 2016-10-02      S300ZS0Z  ST4000DM000    4.000787e+12       0   \n",
       "13221449 2016-10-02      W300R8AC  ST4000DM000    4.000787e+12       0   \n",
       "13221494 2016-10-02      W300D55C  ST4000DM000    4.000787e+12       0   \n",
       "\n",
       "          smart_1_normalized  smart_1_raw  smart_2_normalized  smart_2_raw  \\\n",
       "17                     119.0  221434504.0                 NaN          NaN   \n",
       "88                     116.0  109378928.0                 NaN          NaN   \n",
       "246                    119.0  215001112.0                 NaN          NaN   \n",
       "257                    119.0  204581520.0                 NaN          NaN   \n",
       "544                    117.0  130295575.0                 NaN          NaN   \n",
       "...                      ...          ...                 ...          ...   \n",
       "13221292               114.0   59586600.0                 NaN          NaN   \n",
       "13221406               120.0     732471.0                 NaN          NaN   \n",
       "13221417               111.0   35144768.0                 NaN          NaN   \n",
       "13221449               119.0  210218736.0                 NaN          NaN   \n",
       "13221494               117.0  144672816.0                 NaN          NaN   \n",
       "\n",
       "          smart_3_normalized  ...  smart_250_normalized  smart_250_raw  \\\n",
       "17                      91.0  ...                   NaN            NaN   \n",
       "88                      92.0  ...                   NaN            NaN   \n",
       "246                     92.0  ...                   NaN            NaN   \n",
       "257                     99.0  ...                   NaN            NaN   \n",
       "544                     90.0  ...                   NaN            NaN   \n",
       "...                      ...  ...                   ...            ...   \n",
       "13221292                99.0  ...                   NaN            NaN   \n",
       "13221406                91.0  ...                   NaN            NaN   \n",
       "13221417                92.0  ...                   NaN            NaN   \n",
       "13221449                91.0  ...                   NaN            NaN   \n",
       "13221494                91.0  ...                   NaN            NaN   \n",
       "\n",
       "          smart_251_normalized  smart_251_raw  smart_252_normalized  \\\n",
       "17                         NaN            NaN                   NaN   \n",
       "88                         NaN            NaN                   NaN   \n",
       "246                        NaN            NaN                   NaN   \n",
       "257                        NaN            NaN                   NaN   \n",
       "544                        NaN            NaN                   NaN   \n",
       "...                        ...            ...                   ...   \n",
       "13221292                   NaN            NaN                   NaN   \n",
       "13221406                   NaN            NaN                   NaN   \n",
       "13221417                   NaN            NaN                   NaN   \n",
       "13221449                   NaN            NaN                   NaN   \n",
       "13221494                   NaN            NaN                   NaN   \n",
       "\n",
       "          smart_252_raw  smart_254_normalized  smart_254_raw  \\\n",
       "17                  NaN                   NaN            NaN   \n",
       "88                  NaN                   NaN            NaN   \n",
       "246                 NaN                   NaN            NaN   \n",
       "257                 NaN                   NaN            NaN   \n",
       "544                 NaN                   NaN            NaN   \n",
       "...                 ...                   ...            ...   \n",
       "13221292            NaN                   NaN            NaN   \n",
       "13221406            NaN                   NaN            NaN   \n",
       "13221417            NaN                   NaN            NaN   \n",
       "13221449            NaN                   NaN            NaN   \n",
       "13221494            NaN                   NaN            NaN   \n",
       "\n",
       "          smart_255_normalized  smart_255_raw  \n",
       "17                         NaN            NaN  \n",
       "88                         NaN            NaN  \n",
       "246                        NaN            NaN  \n",
       "257                        NaN            NaN  \n",
       "544                        NaN            NaN  \n",
       "...                        ...            ...  \n",
       "13221292                   NaN            NaN  \n",
       "13221406                   NaN            NaN  \n",
       "13221417                   NaN            NaN  \n",
       "13221449                   NaN            NaN  \n",
       "13221494                   NaN            NaN  \n",
       "\n",
       "[63374 rows x 95 columns]"
      ]
     },
     "execution_count": 10,
     "metadata": {},
     "output_type": "execute_result"
    }
   ],
   "source": [
    "#select the drives that have failed\n",
    "fail = df['failure'] == 1\n",
    "fail = df[fail]\n",
    "fail = fail['serial_number']\n",
    "fail_names = df[df['serial_number'].isin(fail)]\n",
    "\n",
    "#df_fail =df[df_fail['serial_number']]\n",
    "#sort the failed drirves by serial number and then by date.\n",
    "\n",
    "#df_fail.reset_index(drop=True)\n",
    "\n",
    "fail_names"
   ]
  },
  {
   "cell_type": "code",
   "execution_count": null,
   "metadata": {},
   "outputs": [],
   "source": []
  },
  {
   "cell_type": "code",
   "execution_count": 11,
   "metadata": {},
   "outputs": [],
   "source": [
    "#get the raw data. Start with the normalized data given. \n",
    "#fail_raw = fail_names[allrawCols]\n",
    "#sort it \n",
    "#fail_raw = fail_raw.sort_values(by = ['serial_number','date'])\n",
    "#fail_raw = fail_raw.reset_index()"
   ]
  },
  {
   "cell_type": "code",
   "execution_count": 12,
   "metadata": {},
   "outputs": [],
   "source": [
    "fail_norm = fail_names[IDCols.append(normCols)]\n",
    "fail_norm = fail_norm.sort_values(['serial_number', 'date']).reset_index()\n"
   ]
  },
  {
   "cell_type": "code",
   "execution_count": 13,
   "metadata": {},
   "outputs": [],
   "source": [
    "\n",
    "#fail_norm[fail_norm['smart_198_normalized'].isna()]\n",
    "#df[df['smart_198_normalized'].isna()].sum"
   ]
  },
  {
   "cell_type": "code",
   "execution_count": 14,
   "metadata": {},
   "outputs": [
    {
     "data": {
      "text/plain": [
       "index                 0\n",
       "date                  0\n",
       "serial_number         0\n",
       "model                 0\n",
       "capacity_bytes        0\n",
       "failure               0\n",
       "smart_1_raw           0\n",
       "smart_2_raw       57066\n",
       "smart_3_raw           0\n",
       "smart_4_raw           0\n",
       "smart_5_raw           0\n",
       "smart_7_raw           0\n",
       "smart_8_raw       57066\n",
       "smart_9_raw           0\n",
       "smart_10_raw          0\n",
       "smart_11_raw      61219\n",
       "smart_12_raw          0\n",
       "smart_13_raw      63374\n",
       "smart_15_raw      63374\n",
       "smart_22_raw      63374\n",
       "smart_183_raw     11718\n",
       "smart_184_raw      8132\n",
       "smart_187_raw      8132\n",
       "smart_188_raw      8132\n",
       "smart_189_raw      8132\n",
       "smart_190_raw      8132\n",
       "smart_191_raw      7610\n",
       "smart_192_raw       143\n",
       "smart_193_raw       474\n",
       "smart_194_raw         0\n",
       "smart_195_raw     56261\n",
       "smart_196_raw     55242\n",
       "smart_197_raw         0\n",
       "smart_198_raw         0\n",
       "smart_199_raw         0\n",
       "smart_200_raw     61219\n",
       "smart_201_raw     63374\n",
       "smart_220_raw     63108\n",
       "smart_222_raw     63108\n",
       "smart_223_raw     62777\n",
       "smart_224_raw     63108\n",
       "smart_225_raw     63043\n",
       "smart_226_raw     63108\n",
       "smart_240_raw      7866\n",
       "smart_241_raw      8132\n",
       "smart_242_raw      8132\n",
       "smart_250_raw     63339\n",
       "smart_251_raw     63339\n",
       "smart_252_raw     63339\n",
       "smart_254_raw     63339\n",
       "smart_255_raw     63374\n",
       "dtype: int64"
      ]
     },
     "execution_count": 14,
     "metadata": {},
     "output_type": "execute_result"
    }
   ],
   "source": [
    "#visualize the missing data\n",
    "fail_norm.isna().sum()\n",
    "#Wow, there is a lot of NA values in this "
   ]
  },
  {
   "cell_type": "code",
   "execution_count": 15,
   "metadata": {},
   "outputs": [
    {
     "data": {
      "text/plain": [
       "ST4000DM000                48460\n",
       "ST8000DM002                 3536\n",
       "ST4000DX000                 2355\n",
       "Hitachi HDS5C3030ALA630     1907\n",
       "HGST HMS5C4040BLE640        1797\n",
       "Hitachi HDS723030ALA640      961\n",
       "WDC WD30EFRX                 779\n",
       "HGST HMS5C4040ALE640         767\n",
       "WDC WD60EFRX                 721\n",
       "ST6000DX000                  698\n",
       "ST500LM012 HN                331\n",
       "Hitachi HDS5C4040ALE630      279\n",
       "WDC WD5000LPVX               216\n",
       "TOSHIBA MQ01ABF050           157\n",
       "ST3160318AS                  143\n",
       "TOSHIBA MD04ABA400V          109\n",
       "WDC WD1600AAJS                62\n",
       "ST320LT007                    35\n",
       "WDC WD10EACS                  25\n",
       "WDC WD5000LPCX                21\n",
       "ST8000NM0055                  15\n",
       "Name: model, dtype: int64"
      ]
     },
     "execution_count": 15,
     "metadata": {},
     "output_type": "execute_result"
    }
   ],
   "source": [
    "fail_norm['model'].value_counts()"
   ]
  },
  {
   "cell_type": "markdown",
   "metadata": {},
   "source": [
    "Now the drives that have failed are completly sorted, fiirst by serial number then by date.  might need to group_by in order for each serial number to be trated as a single series. not sure though. \n",
    "\n",
    "Now lets try start to interrogate the data"
   ]
  },
  {
   "cell_type": "code",
   "execution_count": 16,
   "metadata": {},
   "outputs": [
    {
     "name": "stdout",
     "output_type": "stream",
     "text": [
      "date                    0.000000\n",
      "serial_number           0.000000\n",
      "model                   0.000000\n",
      "capacity_bytes          0.000000\n",
      "failure                 0.000000\n",
      "smart_1_normalized      0.000032\n",
      "smart_2_normalized      0.641019\n",
      "smart_3_normalized      0.000032\n",
      "smart_4_normalized      0.000032\n",
      "smart_5_normalized      0.000032\n",
      "smart_7_normalized      0.000032\n",
      "smart_8_normalized      0.641019\n",
      "smart_9_normalized      0.000032\n",
      "smart_10_normalized     0.000032\n",
      "smart_11_normalized     0.960527\n",
      "smart_12_normalized     0.000032\n",
      "smart_13_normalized     1.000000\n",
      "smart_15_normalized     1.000000\n",
      "smart_22_normalized     0.999394\n",
      "smart_183_normalized    0.503583\n",
      "smart_184_normalized    0.387593\n",
      "smart_187_normalized    0.387593\n",
      "smart_188_normalized    0.387593\n",
      "smart_189_normalized    0.387593\n",
      "smart_190_normalized    0.387593\n",
      "smart_191_normalized    0.371246\n",
      "smart_192_normalized    0.001263\n",
      "smart_193_normalized    0.012156\n",
      "smart_194_normalized    0.000032\n",
      "smart_195_normalized    0.843953\n",
      "smart_196_normalized    0.612439\n",
      "smart_197_normalized    0.000032\n",
      "smart_198_normalized    0.000032\n",
      "smart_199_normalized    0.000032\n",
      "smart_200_normalized    0.960527\n",
      "smart_201_normalized    1.000000\n",
      "smart_220_normalized    0.995899\n",
      "smart_222_normalized    0.995899\n",
      "smart_223_normalized    0.985007\n",
      "smart_224_normalized    0.995899\n",
      "smart_225_normalized    0.989108\n",
      "smart_226_normalized    0.995899\n",
      "smart_240_normalized    0.383105\n",
      "smart_241_normalized    0.388279\n",
      "smart_242_normalized    0.388279\n",
      "smart_250_normalized    0.999876\n",
      "smart_251_normalized    0.999876\n",
      "smart_252_normalized    0.999876\n",
      "smart_254_normalized    0.998559\n",
      "smart_255_normalized    1.000000\n",
      "dtype: float64\n"
     ]
    }
   ],
   "source": [
    "#Lets see how many NA's are across the whole data set.\n",
    "print(df[allrawCols].isna().sum()/len(df))\n"
   ]
  },
  {
   "cell_type": "code",
   "execution_count": 17,
   "metadata": {},
   "outputs": [
    {
     "data": {
      "text/plain": [
       "0.008550588071057132"
      ]
     },
     "execution_count": 17,
     "metadata": {},
     "output_type": "execute_result"
    }
   ],
   "source": [
    "\n",
    "#Make sure that the NA's arent associated with the failure lines.\n",
    "df['failure'].sum()/len(df.serial_number.unique())\n",
    " "
   ]
  },
  {
   "cell_type": "code",
   "execution_count": 18,
   "metadata": {},
   "outputs": [],
   "source": [
    "#Make sure that the NA's arent associated with just the failure lines.\n",
    "fails = df['failure'] == 1\n",
    "fails = df[fails]\n",
    "#fails = fails['serial_number']\n",
    "#fails[allrawCols].isna().sum()"
   ]
  },
  {
   "cell_type": "code",
   "execution_count": null,
   "metadata": {},
   "outputs": [],
   "source": [
    "#so what we have is a number of columns that seem to have little information.  \n",
    "#Some are completly filled with NA'sand some are well over 80% NA.  \n",
    "#reading literature about what each SMART diagnostic measures tells us that some of the columns are manufacture specific,\n",
    "# some are for solid state hard drives, and thus not applicable to the type of drive in the data center.\n"
   ]
  },
  {
   "cell_type": "code",
   "execution_count": 20,
   "metadata": {},
   "outputs": [],
   "source": [
    "#check the corrolation matrix\n",
    "corrmat =df[normCols].corr()"
   ]
  },
  {
   "cell_type": "code",
   "execution_count": 24,
   "metadata": {},
   "outputs": [
    {
     "data": {
      "text/plain": [
       "<AxesSubplot:>"
      ]
     },
     "execution_count": 24,
     "metadata": {},
     "output_type": "execute_result"
    },
    {
     "data": {
      "image/png": "[encoded data removed]",
      "text/plain": [
       "<Figure size 792x648 with 2 Axes>"
      ]
     },
     "metadata": {
      "needs_background": "light"
     },
     "output_type": "display_data"
    }
   ],
   "source": [
    "mask = np.triu(np.ones_like(corrmat, dtype=bool))\n",
    "f, ax = plt.subplots(figsize=(11, 9))\n",
    "cmap = sns.diverging_palette(230, 20, as_cmap=True)\n",
    "#plot the matrix\n",
    "sns.heatmap(corrmat, mask=mask, cmap=cmap, vmax=.3, center=0,\n",
    "            square=True, linewidths=.5, cbar_kws={\"shrink\": .5})"
   ]
  },
  {
   "cell_type": "code",
   "execution_count": null,
   "metadata": {},
   "outputs": [],
   "source": [
    "# there are a lot of null values.  lets clear that up.  "
   ]
  },
  {
   "cell_type": "code",
   "execution_count": 39,
   "metadata": {},
   "outputs": [],
   "source": [
    "# Remove lines that are less than a certain threshold.\n",
    "df_80 = df[normCols].loc[:, df[normCols].isna().mean() < .80]\n",
    "df_20 = df[normCols].loc[:, df[normCols].isna().mean() <.20]"
   ]
  },
  {
   "cell_type": "code",
   "execution_count": 41,
   "metadata": {},
   "outputs": [
    {
     "data": {
      "text/plain": [
       "<AxesSubplot:>"
      ]
     },
     "execution_count": 41,
     "metadata": {},
     "output_type": "execute_result"
    },
    {
     "data": {
      "image/png": "[encoded data removed]",
      "text/plain": [
       "<Figure size 792x648 with 2 Axes>"
      ]
     },
     "metadata": {
      "needs_background": "light"
     },
     "output_type": "display_data"
    }
   ],
   "source": [
    "#check the corrolation plot again\n",
    "corrmat =df_80.corr()\n",
    "mask = np.triu(np.ones_like(corrmat, dtype=bool))\n",
    "f, ax = plt.subplots(figsize=(11, 9))\n",
    "cmap = sns.diverging_palette(230, 20, as_cmap=True)\n",
    "#plot the matrix\n",
    "sns.heatmap(corrmat, mask=mask, cmap=cmap, vmax=.3, center=0,\n",
    "            square=True, linewidths=.5, cbar_kws={\"shrink\": .5})"
   ]
  },
  {
   "cell_type": "code",
   "execution_count": 42,
   "metadata": {},
   "outputs": [
    {
     "data": {
      "text/plain": [
       "<AxesSubplot:>"
      ]
     },
     "execution_count": 42,
     "metadata": {},
     "output_type": "execute_result"
    },
    {
     "data": {
      "image/png": "[encoded data removed]",
      "text/plain": [
       "<Figure size 792x648 with 2 Axes>"
      ]
     },
     "metadata": {
      "needs_background": "light"
     },
     "output_type": "display_data"
    }
   ],
   "source": [
    "#check the corrolation plot again\n",
    "corrmat =df_20.corr()\n",
    "mask = np.triu(np.ones_like(corrmat, dtype=bool))\n",
    "f, ax = plt.subplots(figsize=(11, 9))\n",
    "cmap = sns.diverging_palette(230, 20, as_cmap=True)\n",
    "#plot the matrix\n",
    "sns.heatmap(corrmat, mask=mask, cmap=cmap, vmax=.3, center=0,\n",
    "            square=True, linewidths=.5, cbar_kws={\"shrink\": .5})"
   ]
  },
  {
   "cell_type": "markdown",
   "metadata": {},
   "source": [
    "### Colinearity summary\n",
    "The colinearity heatmaps look pretty good.  The highest value in the less than 20% of the columns are NA is just above .5, and is the assocaiton between smart 9 and smart 1.  This actually makes sense since smart 1 is the read error rate, and smart 9 is the time that the HDD has been running.there are quite a few rows that have basically zero corrolation.  The majority of corrolations in the heatmap are negative corrolations around 0.3 and below.   "
   ]
  },
  {
   "cell_type": "markdown",
   "metadata": {},
   "source": [
    "## Impute data ??\n",
    "I dont like the idea of adding in data.  Id rather use methods that can handle missing data."
   ]
  },
  {
   "cell_type": "markdown",
   "metadata": {},
   "source": [
    "### Simple Classification"
   ]
  },
  {
   "cell_type": "code",
   "execution_count": null,
   "metadata": {},
   "outputs": [],
   "source": [
    "df[normCols].corr()\n",
    "#only run this once, takes a long time "
   ]
  },
  {
   "cell_type": "code",
   "execution_count": null,
   "metadata": {},
   "outputs": [],
   "source": [
    "df_80.corr()\n"
   ]
  },
  {
   "cell_type": "code",
   "execution_count": null,
   "metadata": {},
   "outputs": [],
   "source": [
    "df_20.corr()"
   ]
  },
  {
   "cell_type": "code",
   "execution_count": null,
   "metadata": {},
   "outputs": [],
   "source": [
    "from sklearn.preprocessing import StandardScaler\n",
    "# scale the data\n",
    "\n",
    "# Separating out the features\n",
    "x = fail_raw.loc[:, rawCols].values\n",
    "# Separating out the target\n",
    "y = fail_raw.loc[:,['failure']].values\n",
    "# Standardizing the features\n",
    "x = StandardScaler().fit_transform(x)"
   ]
  },
  {
   "cell_type": "code",
   "execution_count": null,
   "metadata": {},
   "outputs": [],
   "source": [
    "pd.x.describe\n"
   ]
  },
  {
   "cell_type": "code",
   "execution_count": null,
   "metadata": {},
   "outputs": [],
   "source": [
    "from sklearn.decomposition import PCA\n",
    "pca = PCA(n_components=2)\n",
    "principalComponents = pca.fit_transform(x)\n",
    "principalDf = pd.DataFrame(data = principalComponents\n",
    "             , columns = ['principal component 1', 'principal component 2'])"
   ]
  },
  {
   "cell_type": "code",
   "execution_count": null,
   "metadata": {},
   "outputs": [],
   "source": [
    "\n"
   ]
  },
  {
   "cell_type": "code",
   "execution_count": null,
   "metadata": {},
   "outputs": [],
   "source": []
  },
  {
   "cell_type": "code",
   "execution_count": null,
   "metadata": {},
   "outputs": [],
   "source": []
  },
  {
   "cell_type": "code",
   "execution_count": null,
   "metadata": {},
   "outputs": [],
   "source": []
  },
  {
   "cell_type": "code",
   "execution_count": null,
   "metadata": {},
   "outputs": [],
   "source": []
  },
  {
   "cell_type": "code",
   "execution_count": null,
   "metadata": {},
   "outputs": [],
   "source": []
  },
  {
   "cell_type": "code",
   "execution_count": null,
   "metadata": {},
   "outputs": [],
   "source": []
  }
 ],
 "metadata": {
  "kernelspec": {
   "display_name": "Python 3",
   "language": "python",
   "name": "python3"
  },
  "language_info": {
   "codemirror_mode": {
    "name": "ipython",
    "version": 3
   },
   "file_extension": ".py",
   "mimetype": "text/x-python",
   "name": "python",
   "nbconvert_exporter": "python",
   "pygments_lexer": "ipython3",
   "version": "3.8.5"
  }
 },
 "nbformat": 4,
 "nbformat_minor": 4
}
